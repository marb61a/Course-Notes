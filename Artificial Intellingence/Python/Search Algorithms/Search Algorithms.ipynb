{
 "cells": [
  {
   "cell_type": "markdown",
   "metadata": {},
   "source": [
    "Linear Search"
   ]
  },
  {
   "cell_type": "code",
   "execution_count": 2,
   "metadata": {},
   "outputs": [
    {
     "name": "stdout",
     "output_type": "stream",
     "text": [
      "The result is  1\n"
     ]
    }
   ],
   "source": [
    "def linear_search_function(numVals, key):\n",
    "    index = 0\n",
    "    while index < len(A):\n",
    "        if A[index] == key:\n",
    "            return index\n",
    "        index = index + 1\n",
    "    return -1\n",
    "\n",
    "A = [24, 48, 36, 12, 60, 72, 84]\n",
    "foundVal = linear_search_function(A, 48)\n",
    "print('The result is ', foundVal)"
   ]
  },
  {
   "cell_type": "markdown",
   "metadata": {},
   "source": [
    "Binary Search Iterative Version"
   ]
  },
  {
   "cell_type": "code",
   "execution_count": 4,
   "metadata": {},
   "outputs": [
    {
     "name": "stdout",
     "output_type": "stream",
     "text": [
      "The result is  4\n"
     ]
    }
   ],
   "source": [
    "def binarysearch_iterative_function(numVals, key):\n",
    "    # Starts the indices from both sides\n",
    "    lIndex = 0\n",
    "    rIndex = len(numVals) - 1\n",
    "    while lIndex <= rIndex:\n",
    "        # Need to be an integer to avoid issues\n",
    "        midPoint = int((lIndex + rIndex) / 2)\n",
    "        \n",
    "        if(key == A[midPoint]):\n",
    "            return midPoint\n",
    "        elif(key < A[midPoint]):\n",
    "            rIndex = midPoint - 1\n",
    "        elif(key > A[midPoint]):\n",
    "            lIndex = midPoint + 1\n",
    "    return -1\n",
    "    \n",
    "A = [12, 24, 48, 36, 60, 72, 84]\n",
    "foundVal = binarysearch_iterative_function(A, 60)\n",
    "print('The result is ', foundVal)"
   ]
  },
  {
   "cell_type": "markdown",
   "metadata": {},
   "source": [
    "Binary Search Recursive Algorithm"
   ]
  },
  {
   "cell_type": "code",
   "execution_count": null,
   "metadata": {},
   "outputs": [],
   "source": []
  }
 ],
 "metadata": {
  "kernelspec": {
   "display_name": "Python 3",
   "language": "python",
   "name": "python3"
  },
  "language_info": {
   "codemirror_mode": {
    "name": "ipython",
    "version": 3
   },
   "file_extension": ".py",
   "mimetype": "text/x-python",
   "name": "python",
   "nbconvert_exporter": "python",
   "pygments_lexer": "ipython3",
   "version": "3.8.5"
  }
 },
 "nbformat": 4,
 "nbformat_minor": 4
}
