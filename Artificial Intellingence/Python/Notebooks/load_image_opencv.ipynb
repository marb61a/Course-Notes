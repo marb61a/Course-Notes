{
 "metadata": {
  "language_info": {
   "codemirror_mode": {
    "name": "ipython",
    "version": 3
   },
   "file_extension": ".py",
   "mimetype": "text/x-python",
   "name": "python",
   "nbconvert_exporter": "python",
   "pygments_lexer": "ipython3",
   "version": 3
  },
  "orig_nbformat": 2
 },
 "nbformat": 4,
 "nbformat_minor": 2,
 "cells": [
  {
   "cell_type": "code",
   "execution_count": null,
   "metadata": {},
   "outputs": [],
   "source": [
    "# Learning to use OpenCV from PyImage-Search University\n",
    "\n",
    "# Argparse is used for command line arguments\n",
    "import argparse\n",
    "import cv2\n",
    "\n",
    "# Parse the command line arguments\n",
    "ap = argparse.ArgumentParser()\n",
    "\n",
    "# --image switch will be the path to the image residing on disk\n",
    "ap.add_argument(\"-i\", \"--image\", required=True, help=\"Path to input image\")\n",
    "args = vars(ap.parse_args())\n",
    "\n",
    "# Load the image from disk and then get the spatial dimensions\n",
    "# Opencv treats images as numpy arrays, RGB images are 3 channel images\n",
    "image = cv2.imread(args=[\"image\"])\n",
    "(h, w, c) = image.shape[:3]\n",
    "\n",
    "# Display the image dimensions\n",
    "print(\"width: {} pixels\".format(w))\n",
    "print(\"height: {} pixels\".format(h))\n",
    "print(\"channels: {}\".format(c))\n",
    "\n",
    "# Shows the image and then waits for a keypress\n",
    "# Image in this case will be the title of the window\n",
    "cv2.imshow(\"Imgage\", image)\n",
    "cv2.waitKey(0)\n",
    "\n",
    "# Save the image back to disk\n",
    "# OpenCV will handle filetype conversion automatically\n",
    "cv2.imwrite(\"newparrot.jpg\", image)\n",
    "\n",
    "# Using the command line\n",
    "# simply run python filename --image image-path\n",
    "# For example in this folder run python load_image_opencv.py --image parrot1"
   ]
  },
  {
   "cell_type": "code",
   "execution_count": null,
   "metadata": {},
   "outputs": [],
   "source": []
  },
  {
   "cell_type": "code",
   "execution_count": null,
   "metadata": {},
   "outputs": [],
   "source": []
  }
 ]
}