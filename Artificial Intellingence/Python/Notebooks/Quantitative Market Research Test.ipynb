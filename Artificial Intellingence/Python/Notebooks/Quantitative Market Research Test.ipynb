{
 "cells": [
  {
   "cell_type": "markdown",
   "id": "cd77bd85",
   "metadata": {},
   "source": [
    "### <center>Add Needed Packages</center>"
   ]
  },
  {
   "cell_type": "code",
   "execution_count": null,
   "id": "717757a2",
   "metadata": {},
   "outputs": [],
   "source": [
    "# Uncomment each package to install on a system\n",
    "# !pip install pandas\n",
    "# !pip install numpy\n",
    "# !pip install seaborn\n",
    "# !pip install matplotlib\n",
    "\n",
    "# ! pip install missingno\n",
    "# ! pip install plotly-express"
   ]
  },
  {
   "cell_type": "markdown",
   "id": "83c0d84a",
   "metadata": {},
   "source": [
    "### <center>Import Packages</center>"
   ]
  },
  {
   "cell_type": "code",
   "execution_count": 1,
   "id": "52d91e62",
   "metadata": {},
   "outputs": [],
   "source": [
    "import pandas as pd\n",
    "import numpy as np\n",
    "import seaborn as sns\n",
    "import matplotlib.pyplot as plt\n",
    "import missingno as msno"
   ]
  },
  {
   "cell_type": "markdown",
   "id": "dcddfa73",
   "metadata": {},
   "source": [
    "### <center>Import Dataset and EDA</center>"
   ]
  },
  {
   "cell_type": "markdown",
   "id": "1963bc2c",
   "metadata": {},
   "source": [
    "#### Import Dataset"
   ]
  },
  {
   "cell_type": "code",
   "execution_count": 3,
   "id": "a103b2a2",
   "metadata": {},
   "outputs": [],
   "source": [
    "dataset = pd.read_excel('./trimmed_data.xlsx', sheet_name='rawdata')"
   ]
  },
  {
   "cell_type": "code",
   "execution_count": 4,
   "id": "e91b2a17",
   "metadata": {},
   "outputs": [
    {
     "data": {
      "text/html": [
       "<div>\n",
       "<style scoped>\n",
       "    .dataframe tbody tr th:only-of-type {\n",
       "        vertical-align: middle;\n",
       "    }\n",
       "\n",
       "    .dataframe tbody tr th {\n",
       "        vertical-align: top;\n",
       "    }\n",
       "\n",
       "    .dataframe thead th {\n",
       "        text-align: right;\n",
       "    }\n",
       "</style>\n",
       "<table border=\"1\" class=\"dataframe\">\n",
       "  <thead>\n",
       "    <tr style=\"text-align: right;\">\n",
       "      <th></th>\n",
       "      <th>Response ID</th>\n",
       "      <th>Age</th>\n",
       "      <th>Gender</th>\n",
       "      <th>Q1 - In general, how do you feel about foldable smartphones with bendable screens?</th>\n",
       "      <th>Q2 - How likely are you to purchase a foldable phone with a bendable screen the next time you make a smartphone purchase?</th>\n",
       "      <th>Q3 - Cool</th>\n",
       "      <th>Q3 - Practical</th>\n",
       "      <th>Q3 - Innovative</th>\n",
       "      <th>Q3 - Sleek</th>\n",
       "      <th>Q3 - Stylish</th>\n",
       "      <th>Q3 - Sophisticated</th>\n",
       "      <th>Q3 - Superior</th>\n",
       "      <th>Q3 - Premium</th>\n",
       "      <th>Q3 - Experiential</th>\n",
       "      <th>Q3 - Gimmick</th>\n",
       "      <th>Q3 - None of the above</th>\n",
       "      <th>Q4 - What new features would you want to see in smartphones? Type idk if you can't think of any.</th>\n",
       "      <th>Q5 - In your opinion, what is the most important feature in a smartphone?</th>\n",
       "      <th>Q6 - How often do you change your smartphone?</th>\n",
       "    </tr>\n",
       "  </thead>\n",
       "  <tbody>\n",
       "    <tr>\n",
       "      <th>0</th>\n",
       "      <td>1</td>\n",
       "      <td>38</td>\n",
       "      <td>male</td>\n",
       "      <td>I dislike them a little</td>\n",
       "      <td>Very unlikely</td>\n",
       "      <td>NO</td>\n",
       "      <td>NO</td>\n",
       "      <td>NO</td>\n",
       "      <td>NO</td>\n",
       "      <td>NO</td>\n",
       "      <td>NO</td>\n",
       "      <td>NO</td>\n",
       "      <td>NO</td>\n",
       "      <td>NO</td>\n",
       "      <td>NO</td>\n",
       "      <td>YES</td>\n",
       "      <td>NaN</td>\n",
       "      <td>Durability</td>\n",
       "      <td>Every 2 years</td>\n",
       "    </tr>\n",
       "    <tr>\n",
       "      <th>1</th>\n",
       "      <td>2</td>\n",
       "      <td>22</td>\n",
       "      <td>male</td>\n",
       "      <td>I hate them</td>\n",
       "      <td>Very unlikely</td>\n",
       "      <td>NO</td>\n",
       "      <td>NO</td>\n",
       "      <td>NO</td>\n",
       "      <td>NO</td>\n",
       "      <td>NO</td>\n",
       "      <td>NO</td>\n",
       "      <td>NO</td>\n",
       "      <td>NO</td>\n",
       "      <td>YES</td>\n",
       "      <td>YES</td>\n",
       "      <td>NO</td>\n",
       "      <td>THERMAL IMAGING</td>\n",
       "      <td>Durability</td>\n",
       "      <td>Every 2 years</td>\n",
       "    </tr>\n",
       "    <tr>\n",
       "      <th>2</th>\n",
       "      <td>3</td>\n",
       "      <td>30</td>\n",
       "      <td>male</td>\n",
       "      <td>I love them</td>\n",
       "      <td>Very likely</td>\n",
       "      <td>NO</td>\n",
       "      <td>YES</td>\n",
       "      <td>YES</td>\n",
       "      <td>YES</td>\n",
       "      <td>YES</td>\n",
       "      <td>NO</td>\n",
       "      <td>YES</td>\n",
       "      <td>YES</td>\n",
       "      <td>NO</td>\n",
       "      <td>NO</td>\n",
       "      <td>NO</td>\n",
       "      <td>Bendable anti scratch screen and IP68</td>\n",
       "      <td>Size of screen</td>\n",
       "      <td>Only when it breaks down</td>\n",
       "    </tr>\n",
       "    <tr>\n",
       "      <th>3</th>\n",
       "      <td>4</td>\n",
       "      <td>25</td>\n",
       "      <td>male</td>\n",
       "      <td>I like them a lot</td>\n",
       "      <td>Likely</td>\n",
       "      <td>YES</td>\n",
       "      <td>YES</td>\n",
       "      <td>YES</td>\n",
       "      <td>NO</td>\n",
       "      <td>YES</td>\n",
       "      <td>YES</td>\n",
       "      <td>NO</td>\n",
       "      <td>NO</td>\n",
       "      <td>NO</td>\n",
       "      <td>YES</td>\n",
       "      <td>NO</td>\n",
       "      <td>N</td>\n",
       "      <td>Battery life</td>\n",
       "      <td>Every year</td>\n",
       "    </tr>\n",
       "    <tr>\n",
       "      <th>4</th>\n",
       "      <td>5</td>\n",
       "      <td>27</td>\n",
       "      <td>male</td>\n",
       "      <td>I like them a lot</td>\n",
       "      <td>Likely</td>\n",
       "      <td>YES</td>\n",
       "      <td>YES</td>\n",
       "      <td>NO</td>\n",
       "      <td>YES</td>\n",
       "      <td>YES</td>\n",
       "      <td>YES</td>\n",
       "      <td>NO</td>\n",
       "      <td>YES</td>\n",
       "      <td>YES</td>\n",
       "      <td>YES</td>\n",
       "      <td>NO</td>\n",
       "      <td>Better gaming experience</td>\n",
       "      <td>Performance/ speed</td>\n",
       "      <td>Every 2 years</td>\n",
       "    </tr>\n",
       "    <tr>\n",
       "      <th>...</th>\n",
       "      <td>...</td>\n",
       "      <td>...</td>\n",
       "      <td>...</td>\n",
       "      <td>...</td>\n",
       "      <td>...</td>\n",
       "      <td>...</td>\n",
       "      <td>...</td>\n",
       "      <td>...</td>\n",
       "      <td>...</td>\n",
       "      <td>...</td>\n",
       "      <td>...</td>\n",
       "      <td>...</td>\n",
       "      <td>...</td>\n",
       "      <td>...</td>\n",
       "      <td>...</td>\n",
       "      <td>...</td>\n",
       "      <td>...</td>\n",
       "      <td>...</td>\n",
       "      <td>...</td>\n",
       "    </tr>\n",
       "    <tr>\n",
       "      <th>1365</th>\n",
       "      <td>1366</td>\n",
       "      <td>30</td>\n",
       "      <td>female</td>\n",
       "      <td>I dislike them a little</td>\n",
       "      <td>Very unlikely</td>\n",
       "      <td>NO</td>\n",
       "      <td>NO</td>\n",
       "      <td>YES</td>\n",
       "      <td>NO</td>\n",
       "      <td>NO</td>\n",
       "      <td>NO</td>\n",
       "      <td>NO</td>\n",
       "      <td>NO</td>\n",
       "      <td>YES</td>\n",
       "      <td>YES</td>\n",
       "      <td>NO</td>\n",
       "      <td>NaN</td>\n",
       "      <td>Design</td>\n",
       "      <td>Every 2 years</td>\n",
       "    </tr>\n",
       "    <tr>\n",
       "      <th>1366</th>\n",
       "      <td>1367</td>\n",
       "      <td>30</td>\n",
       "      <td>female</td>\n",
       "      <td>I dislike them a little</td>\n",
       "      <td>Very unlikely</td>\n",
       "      <td>NO</td>\n",
       "      <td>NO</td>\n",
       "      <td>NO</td>\n",
       "      <td>NO</td>\n",
       "      <td>NO</td>\n",
       "      <td>NO</td>\n",
       "      <td>NO</td>\n",
       "      <td>NO</td>\n",
       "      <td>NO</td>\n",
       "      <td>NO</td>\n",
       "      <td>YES</td>\n",
       "      <td>Have a better video function</td>\n",
       "      <td>Durability</td>\n",
       "      <td>Every 2 years</td>\n",
       "    </tr>\n",
       "    <tr>\n",
       "      <th>1367</th>\n",
       "      <td>1368</td>\n",
       "      <td>35</td>\n",
       "      <td>male</td>\n",
       "      <td>I like them a little</td>\n",
       "      <td>Somewhat unlikely</td>\n",
       "      <td>YES</td>\n",
       "      <td>NO</td>\n",
       "      <td>YES</td>\n",
       "      <td>NO</td>\n",
       "      <td>NO</td>\n",
       "      <td>NO</td>\n",
       "      <td>NO</td>\n",
       "      <td>NO</td>\n",
       "      <td>YES</td>\n",
       "      <td>YES</td>\n",
       "      <td>NO</td>\n",
       "      <td>NaN</td>\n",
       "      <td>Design</td>\n",
       "      <td>Every 2 years</td>\n",
       "    </tr>\n",
       "    <tr>\n",
       "      <th>1368</th>\n",
       "      <td>1369</td>\n",
       "      <td>31</td>\n",
       "      <td>female</td>\n",
       "      <td>I like them a little</td>\n",
       "      <td>Unlikely</td>\n",
       "      <td>YES</td>\n",
       "      <td>NO</td>\n",
       "      <td>YES</td>\n",
       "      <td>YES</td>\n",
       "      <td>YES</td>\n",
       "      <td>YES</td>\n",
       "      <td>NO</td>\n",
       "      <td>YES</td>\n",
       "      <td>NO</td>\n",
       "      <td>NO</td>\n",
       "      <td>NO</td>\n",
       "      <td>Na</td>\n",
       "      <td>Durability</td>\n",
       "      <td>Only when it breaks down</td>\n",
       "    </tr>\n",
       "    <tr>\n",
       "      <th>1369</th>\n",
       "      <td>1370</td>\n",
       "      <td>20</td>\n",
       "      <td>female</td>\n",
       "      <td>I dislike them a little</td>\n",
       "      <td>Very unlikely</td>\n",
       "      <td>NO</td>\n",
       "      <td>NO</td>\n",
       "      <td>NO</td>\n",
       "      <td>NO</td>\n",
       "      <td>NO</td>\n",
       "      <td>NO</td>\n",
       "      <td>NO</td>\n",
       "      <td>NO</td>\n",
       "      <td>NO</td>\n",
       "      <td>YES</td>\n",
       "      <td>NO</td>\n",
       "      <td>NaN</td>\n",
       "      <td>Durability</td>\n",
       "      <td>Every 2 years</td>\n",
       "    </tr>\n",
       "  </tbody>\n",
       "</table>\n",
       "<p>1370 rows × 19 columns</p>\n",
       "</div>"
      ],
      "text/plain": [
       "      Response ID  Age  Gender  \\\n",
       "0               1   38    male   \n",
       "1               2   22    male   \n",
       "2               3   30    male   \n",
       "3               4   25    male   \n",
       "4               5   27    male   \n",
       "...           ...  ...     ...   \n",
       "1365         1366   30  female   \n",
       "1366         1367   30  female   \n",
       "1367         1368   35    male   \n",
       "1368         1369   31  female   \n",
       "1369         1370   20  female   \n",
       "\n",
       "     Q1 - In general, how do you feel about foldable smartphones with bendable screens?  \\\n",
       "0                               I dislike them a little                                   \n",
       "1                                           I hate them                                   \n",
       "2                                           I love them                                   \n",
       "3                                     I like them a lot                                   \n",
       "4                                     I like them a lot                                   \n",
       "...                                                 ...                                   \n",
       "1365                            I dislike them a little                                   \n",
       "1366                            I dislike them a little                                   \n",
       "1367                               I like them a little                                   \n",
       "1368                               I like them a little                                   \n",
       "1369                            I dislike them a little                                   \n",
       "\n",
       "     Q2 - How likely are you to purchase a foldable phone with a bendable screen the next time you make a smartphone purchase?  \\\n",
       "0                                         Very unlikely                                                                          \n",
       "1                                         Very unlikely                                                                          \n",
       "2                                           Very likely                                                                          \n",
       "3                                                Likely                                                                          \n",
       "4                                                Likely                                                                          \n",
       "...                                                 ...                                                                          \n",
       "1365                                      Very unlikely                                                                          \n",
       "1366                                      Very unlikely                                                                          \n",
       "1367                                  Somewhat unlikely                                                                          \n",
       "1368                                           Unlikely                                                                          \n",
       "1369                                      Very unlikely                                                                          \n",
       "\n",
       "     Q3 - Cool Q3 - Practical Q3 - Innovative Q3 - Sleek Q3 - Stylish  \\\n",
       "0           NO             NO              NO         NO           NO   \n",
       "1           NO             NO              NO         NO           NO   \n",
       "2           NO            YES             YES        YES          YES   \n",
       "3          YES            YES             YES         NO          YES   \n",
       "4          YES            YES              NO        YES          YES   \n",
       "...        ...            ...             ...        ...          ...   \n",
       "1365        NO             NO             YES         NO           NO   \n",
       "1366        NO             NO              NO         NO           NO   \n",
       "1367       YES             NO             YES         NO           NO   \n",
       "1368       YES             NO             YES        YES          YES   \n",
       "1369        NO             NO              NO         NO           NO   \n",
       "\n",
       "     Q3 - Sophisticated Q3 - Superior Q3 - Premium Q3 - Experiential  \\\n",
       "0                    NO            NO           NO                NO   \n",
       "1                    NO            NO           NO               YES   \n",
       "2                    NO           YES          YES                NO   \n",
       "3                   YES            NO           NO                NO   \n",
       "4                   YES            NO          YES               YES   \n",
       "...                 ...           ...          ...               ...   \n",
       "1365                 NO            NO           NO               YES   \n",
       "1366                 NO            NO           NO                NO   \n",
       "1367                 NO            NO           NO               YES   \n",
       "1368                YES            NO          YES                NO   \n",
       "1369                 NO            NO           NO                NO   \n",
       "\n",
       "     Q3 - Gimmick Q3 - None of the above  \\\n",
       "0              NO                    YES   \n",
       "1             YES                     NO   \n",
       "2              NO                     NO   \n",
       "3             YES                     NO   \n",
       "4             YES                     NO   \n",
       "...           ...                    ...   \n",
       "1365          YES                     NO   \n",
       "1366           NO                    YES   \n",
       "1367          YES                     NO   \n",
       "1368           NO                     NO   \n",
       "1369          YES                     NO   \n",
       "\n",
       "     Q4 - What new features would you want to see in smartphones? Type idk if you can't think of any.  \\\n",
       "0                                                   NaN                                                 \n",
       "1                                       THERMAL IMAGING                                                 \n",
       "2                 Bendable anti scratch screen and IP68                                                 \n",
       "3                                                     N                                                 \n",
       "4                              Better gaming experience                                                 \n",
       "...                                                 ...                                                 \n",
       "1365                                                NaN                                                 \n",
       "1366                       Have a better video function                                                 \n",
       "1367                                                NaN                                                 \n",
       "1368                                                 Na                                                 \n",
       "1369                                                NaN                                                 \n",
       "\n",
       "     Q5 - In your opinion, what is the most important feature in a smartphone?  \\\n",
       "0                                            Durability                          \n",
       "1                                            Durability                          \n",
       "2                                        Size of screen                          \n",
       "3                                          Battery life                          \n",
       "4                                    Performance/ speed                          \n",
       "...                                                 ...                          \n",
       "1365                                             Design                          \n",
       "1366                                         Durability                          \n",
       "1367                                             Design                          \n",
       "1368                                         Durability                          \n",
       "1369                                         Durability                          \n",
       "\n",
       "     Q6 - How often do you change your smartphone?  \n",
       "0                                    Every 2 years  \n",
       "1                                    Every 2 years  \n",
       "2                         Only when it breaks down  \n",
       "3                                       Every year  \n",
       "4                                    Every 2 years  \n",
       "...                                            ...  \n",
       "1365                                 Every 2 years  \n",
       "1366                                 Every 2 years  \n",
       "1367                                 Every 2 years  \n",
       "1368                      Only when it breaks down  \n",
       "1369                                 Every 2 years  \n",
       "\n",
       "[1370 rows x 19 columns]"
      ]
     },
     "execution_count": 4,
     "metadata": {},
     "output_type": "execute_result"
    }
   ],
   "source": [
    "# Print dataset\n",
    "dataset"
   ]
  },
  {
   "cell_type": "markdown",
   "id": "d78de340",
   "metadata": {},
   "source": [
    "#### Create Dataset copy for working on"
   ]
  },
  {
   "cell_type": "code",
   "execution_count": 5,
   "id": "3cd0833d",
   "metadata": {},
   "outputs": [],
   "source": [
    "data_copy = dataset.copy()"
   ]
  },
  {
   "cell_type": "markdown",
   "id": "ff78c719",
   "metadata": {},
   "source": [
    "#### Examine data shape"
   ]
  },
  {
   "cell_type": "code",
   "execution_count": 6,
   "id": "a8e396d0",
   "metadata": {},
   "outputs": [
    {
     "data": {
      "text/plain": [
       "(1370, 19)"
      ]
     },
     "execution_count": 6,
     "metadata": {},
     "output_type": "execute_result"
    }
   ],
   "source": [
    "data_copy.shape"
   ]
  },
  {
   "cell_type": "markdown",
   "id": "1664ef60",
   "metadata": {},
   "source": [
    "### Q1"
   ]
  },
  {
   "cell_type": "code",
   "execution_count": 10,
   "id": "dbf6d430",
   "metadata": {},
   "outputs": [
    {
     "data": {
      "text/plain": [
       "I like them a little       598\n",
       "I like them a lot          278\n",
       "I dislike them a little    264\n",
       "I love them                152\n",
       "I dislike them a lot        56\n",
       "I hate them                 22\n",
       "Name: Q1 - In general, how do you feel about foldable smartphones with bendable screens?, dtype: int64"
      ]
     },
     "execution_count": 10,
     "metadata": {},
     "output_type": "execute_result"
    }
   ],
   "source": [
    "# Count the quantities of each response in Q1\n",
    "df1 = data_copy['Q1 - In general, how do you feel about foldable smartphones with bendable screens?']\n",
    "df1.value_counts()"
   ]
  },
  {
   "cell_type": "markdown",
   "id": "b374561e",
   "metadata": {},
   "source": [
    "### Q2"
   ]
  },
  {
   "cell_type": "code",
   "execution_count": 12,
   "id": "dc0ac2c1",
   "metadata": {},
   "outputs": [
    {
     "data": {
      "text/plain": [
       "Somewhat unlikely    393\n",
       "Somewhat likely      348\n",
       "Likely               201\n",
       "Very unlikely        174\n",
       "Unlikely             168\n",
       "Very likely           86\n",
       "Name: Q2 - How likely are you to purchase a foldable phone with a bendable screen the next time you make a smartphone purchase?, dtype: int64"
      ]
     },
     "execution_count": 12,
     "metadata": {},
     "output_type": "execute_result"
    }
   ],
   "source": [
    "# Do something similar to the previous question but this time use the q2 column\n",
    "df2 = data_copy['Q2 - How likely are you to purchase a foldable phone with a bendable screen the next time you make a smartphone purchase?']\n",
    "df2.value_counts()"
   ]
  },
  {
   "cell_type": "markdown",
   "id": "2099971b",
   "metadata": {},
   "source": [
    "### Q3"
   ]
  },
  {
   "cell_type": "code",
   "execution_count": 53,
   "id": "24c5ac12",
   "metadata": {},
   "outputs": [
    {
     "data": {
      "text/plain": [
       "Q3 - Cool\n",
       "NO     798\n",
       "YES    572\n",
       "dtype: int64"
      ]
     },
     "execution_count": 53,
     "metadata": {},
     "output_type": "execute_result"
    }
   ],
   "source": [
    "# Using the .filter method allows for partial matching column name\n",
    "df3 = data_copy.filter(like='Q3')\n",
    "df3_c = df3.value_counts('Q3 - Cool')\n",
    "df3_c\n"
   ]
  },
  {
   "cell_type": "code",
   "execution_count": 54,
   "id": "dbc4fecf",
   "metadata": {},
   "outputs": [
    {
     "data": {
      "text/plain": [
       "Q3 - Practical\n",
       "NO     1119\n",
       "YES     251\n",
       "dtype: int64"
      ]
     },
     "execution_count": 54,
     "metadata": {},
     "output_type": "execute_result"
    }
   ],
   "source": [
    "df3_p = df3.value_counts('Q3 - Practical')\n",
    "df3_p"
   ]
  },
  {
   "cell_type": "code",
   "execution_count": 55,
   "id": "62c3a91e",
   "metadata": {},
   "outputs": [
    {
     "data": {
      "text/plain": [
       "Q3 - Innovative\n",
       "NO     726\n",
       "YES    644\n",
       "dtype: int64"
      ]
     },
     "execution_count": 55,
     "metadata": {},
     "output_type": "execute_result"
    }
   ],
   "source": [
    "df3_i = df3.value_counts('Q3 - Innovative')\n",
    "df3_i"
   ]
  },
  {
   "cell_type": "code",
   "execution_count": 56,
   "id": "3e6498a4",
   "metadata": {},
   "outputs": [
    {
     "data": {
      "text/plain": [
       "Q3 - Sleek\n",
       "NO     959\n",
       "YES    411\n",
       "dtype: int64"
      ]
     },
     "execution_count": 56,
     "metadata": {},
     "output_type": "execute_result"
    }
   ],
   "source": [
    "df3_s = df3.value_counts('Q3 - Sleek')\n",
    "df3_s"
   ]
  },
  {
   "cell_type": "code",
   "execution_count": 57,
   "id": "7494fbf0",
   "metadata": {},
   "outputs": [
    {
     "data": {
      "text/plain": [
       "Q3 - Stylish\n",
       "NO     856\n",
       "YES    514\n",
       "dtype: int64"
      ]
     },
     "execution_count": 57,
     "metadata": {},
     "output_type": "execute_result"
    }
   ],
   "source": [
    "df3_st = df3.value_counts('Q3 - Stylish')\n",
    "df3_st"
   ]
  },
  {
   "cell_type": "code",
   "execution_count": 58,
   "id": "d05140b7",
   "metadata": {},
   "outputs": [
    {
     "data": {
      "text/plain": [
       "Q3 - Sophisticated\n",
       "NO     1079\n",
       "YES     291\n",
       "dtype: int64"
      ]
     },
     "execution_count": 58,
     "metadata": {},
     "output_type": "execute_result"
    }
   ],
   "source": [
    "df3_so = df3.value_counts('Q3 - Sophisticated')\n",
    "df3_so"
   ]
  },
  {
   "cell_type": "code",
   "execution_count": 59,
   "id": "da84737f",
   "metadata": {},
   "outputs": [
    {
     "data": {
      "text/plain": [
       "Q3 - Superior\n",
       "NO     1211\n",
       "YES     159\n",
       "dtype: int64"
      ]
     },
     "execution_count": 59,
     "metadata": {},
     "output_type": "execute_result"
    }
   ],
   "source": [
    "df3_su = df3.value_counts('Q3 - Superior')\n",
    "df3_su"
   ]
  },
  {
   "cell_type": "code",
   "execution_count": 60,
   "id": "8cced29c",
   "metadata": {},
   "outputs": [
    {
     "data": {
      "text/plain": [
       "Q3 - Premium\n",
       "NO     1067\n",
       "YES     303\n",
       "dtype: int64"
      ]
     },
     "execution_count": 60,
     "metadata": {},
     "output_type": "execute_result"
    }
   ],
   "source": [
    "df3_p = df3.value_counts('Q3 - Premium')\n",
    "df3_p"
   ]
  },
  {
   "cell_type": "code",
   "execution_count": 62,
   "id": "373e20fb",
   "metadata": {},
   "outputs": [
    {
     "data": {
      "text/plain": [
       "Q3 - Experiential\n",
       "NO     905\n",
       "YES    465\n",
       "dtype: int64"
      ]
     },
     "execution_count": 62,
     "metadata": {},
     "output_type": "execute_result"
    }
   ],
   "source": [
    "df3_e = df3.value_counts('Q3 - Experiential')\n",
    "df3_e"
   ]
  },
  {
   "cell_type": "code",
   "execution_count": 63,
   "id": "8e858318",
   "metadata": {},
   "outputs": [
    {
     "data": {
      "text/plain": [
       "Q3 - Gimmick\n",
       "NO     935\n",
       "YES    435\n",
       "dtype: int64"
      ]
     },
     "execution_count": 63,
     "metadata": {},
     "output_type": "execute_result"
    }
   ],
   "source": [
    "df3_g = df3.value_counts('Q3 - Gimmick')\n",
    "df3_g"
   ]
  },
  {
   "cell_type": "code",
   "execution_count": 64,
   "id": "682c9031",
   "metadata": {},
   "outputs": [
    {
     "data": {
      "text/plain": [
       "Q3 - None of the above\n",
       "NO     1308\n",
       "YES      62\n",
       "dtype: int64"
      ]
     },
     "execution_count": 64,
     "metadata": {},
     "output_type": "execute_result"
    }
   ],
   "source": [
    "df3_n = df3.value_counts('Q3 - None of the above')\n",
    "df3_n"
   ]
  },
  {
   "cell_type": "markdown",
   "id": "17946e97",
   "metadata": {},
   "source": [
    "### Q4"
   ]
  },
  {
   "cell_type": "code",
   "execution_count": 67,
   "id": "de37770c",
   "metadata": {},
   "outputs": [
    {
     "data": {
      "text/plain": [
       "Performance/ speed    468\n",
       "Battery life          307\n",
       "Durability            263\n",
       "Quality of camera     130\n",
       "Design                 66\n",
       "Brand of phone         49\n",
       "Size of screen         46\n",
       "Screen resolution      30\n",
       "None of the above      11\n",
       "Name: Q5 - In your opinion, what is the most important feature in a smartphone?, dtype: int64"
      ]
     },
     "execution_count": 67,
     "metadata": {},
     "output_type": "execute_result"
    }
   ],
   "source": [
    "df4 = data_copy['Q5 - In your opinion, what is the most important feature in a smartphone?']\n",
    "df4.value_counts()"
   ]
  },
  {
   "cell_type": "markdown",
   "id": "67b685e5",
   "metadata": {},
   "source": [
    "### Q5"
   ]
  },
  {
   "cell_type": "code",
   "execution_count": 68,
   "id": "ec2ff603",
   "metadata": {},
   "outputs": [
    {
     "data": {
      "text/plain": [
       "Every 2 years               723\n",
       "Every 3 years               203\n",
       "Only when it breaks down    158\n",
       "Every year                  149\n",
       "Longer than 3 years         116\n",
       "Every 6 months or less       21\n",
       "Name: Q6 - How often do you change your smartphone?, dtype: int64"
      ]
     },
     "execution_count": 68,
     "metadata": {},
     "output_type": "execute_result"
    }
   ],
   "source": [
    "df5 = data_copy['Q6 - How often do you change your smartphone?']\n",
    "df5.value_counts()"
   ]
  },
  {
   "cell_type": "markdown",
   "id": "a88ed203",
   "metadata": {},
   "source": [
    "### Q6"
   ]
  },
  {
   "cell_type": "code",
   "execution_count": 75,
   "id": "4e57b307",
   "metadata": {},
   "outputs": [
    {
     "data": {
      "text/plain": [
       "Gender  Q1 - In general, how do you feel about foldable smartphones with bendable screens?\n",
       "female  I like them a little                                                                  293\n",
       "        I like them a lot                                                                     143\n",
       "        I dislike them a little                                                               141\n",
       "        I love them                                                                            74\n",
       "        I dislike them a lot                                                                   25\n",
       "        I hate them                                                                             9\n",
       "male    I like them a little                                                                  305\n",
       "        I like them a lot                                                                     135\n",
       "        I dislike them a little                                                               123\n",
       "        I love them                                                                            78\n",
       "        I dislike them a lot                                                                   31\n",
       "        I hate them                                                                            13\n",
       "Name: Q1 - In general, how do you feel about foldable smartphones with bendable screens?, dtype: int64"
      ]
     },
     "execution_count": 75,
     "metadata": {},
     "output_type": "execute_result"
    }
   ],
   "source": [
    "# Select the gender and Q1 columns, use the groupby method to sort out answers by gender and count the values\n",
    "df6 = data_copy[['Gender','Q1 - In general, how do you feel about foldable smartphones with bendable screens?']]\n",
    "df6.groupby('Gender')['Q1 - In general, how do you feel about foldable smartphones with bendable screens?'].value_counts()"
   ]
  },
  {
   "cell_type": "markdown",
   "id": "42ef1b75",
   "metadata": {},
   "source": [
    "### Q7"
   ]
  },
  {
   "cell_type": "code",
   "execution_count": 11,
   "id": "8b375f61",
   "metadata": {},
   "outputs": [
    {
     "data": {
      "text/plain": [
       "Age       Q2 - How likely are you to purchase a foldable phone with a bendable screen the next time you make a smartphone purchase?\n",
       "(25, 35]  Somewhat unlikely                                                                                                            105\n",
       "          Somewhat likely                                                                                                               76\n",
       "          Very unlikely                                                                                                                 58\n",
       "          Likely                                                                                                                        47\n",
       "          Unlikely                                                                                                                      42\n",
       "          Very likely                                                                                                                   15\n",
       "(35, 45]  Somewhat likely                                                                                                               98\n",
       "          Somewhat unlikely                                                                                                             83\n",
       "          Likely                                                                                                                        53\n",
       "          Very unlikely                                                                                                                 45\n",
       "          Unlikely                                                                                                                      38\n",
       "          Very likely                                                                                                                   33\n",
       "(45, 55]  Somewhat unlikely                                                                                                             80\n",
       "          Somewhat likely                                                                                                               78\n",
       "          Likely                                                                                                                        39\n",
       "          Very unlikely                                                                                                                 20\n",
       "          Very likely                                                                                                                   19\n",
       "          Unlikely                                                                                                                      17\n",
       "(55, 65]  Somewhat likely                                                                                                               40\n",
       "          Likely                                                                                                                        31\n",
       "          Somewhat unlikely                                                                                                             29\n",
       "          Unlikely                                                                                                                      11\n",
       "          Very likely                                                                                                                    5\n",
       "          Very unlikely                                                                                                                  2\n",
       "(65, 75]  Somewhat likely                                                                                                                8\n",
       "          Somewhat unlikely                                                                                                              8\n",
       "          Likely                                                                                                                         4\n",
       "          Very unlikely                                                                                                                  4\n",
       "          Unlikely                                                                                                                       2\n",
       "          Very likely                                                                                                                    2\n",
       "Name: Q2 - How likely are you to purchase a foldable phone with a bendable screen the next time you make a smartphone purchase?, dtype: int64"
      ]
     },
     "execution_count": 11,
     "metadata": {},
     "output_type": "execute_result"
    }
   ],
   "source": [
    "# Similar to q6 but this time use age and Q2 columns\n",
    "df7 = data_copy[['Age', 'Q2 - How likely are you to purchase a foldable phone with a bendable screen the next time you make a smartphone purchase?']]\n",
    "ranges = [25,35,45,55,65,75]\n",
    "\n",
    "df7.groupby(pd.cut(df7.Age, ranges))['Q2 - How likely are you to purchase a foldable phone with a bendable screen the next time you make a smartphone purchase?'].value_counts()"
   ]
  },
  {
   "cell_type": "markdown",
   "id": "37aa4921",
   "metadata": {},
   "source": [
    "### Q8"
   ]
  },
  {
   "cell_type": "code",
   "execution_count": 17,
   "id": "d6175d57",
   "metadata": {},
   "outputs": [
    {
     "data": {
      "text/plain": [
       "Age       Q3 - Gimmick\n",
       "(25, 35]  NO              196\n",
       "          YES             147\n",
       "(35, 45]  NO              254\n",
       "          YES              96\n",
       "(45, 55]  NO              199\n",
       "          YES              54\n",
       "(55, 65]  NO              102\n",
       "          YES              16\n",
       "(65, 75]  NO               19\n",
       "          YES               9\n",
       "Name: Q3 - Gimmick, dtype: int64"
      ]
     },
     "execution_count": 17,
     "metadata": {},
     "output_type": "execute_result"
    }
   ],
   "source": [
    "# Similar to the previous 2 questions, use the age and q3 columns\n",
    "# Use the pandas cut method to cut the age column into ranges\n",
    "df8 = data_copy[['Age', 'Q3 - Gimmick']]\n",
    "ranges = [25,35,45,55,65,75]\n",
    "df8 = df8.groupby(pd.cut(df8.Age, ranges))['Q3 - Gimmick'].value_counts()\n",
    "df8.head(30)"
   ]
  },
  {
   "cell_type": "markdown",
   "id": "fc11b94a",
   "metadata": {},
   "source": [
    "### Q9"
   ]
  },
  {
   "cell_type": "code",
   "execution_count": 25,
   "id": "0f2be2d9",
   "metadata": {},
   "outputs": [
    {
     "data": {
      "text/plain": [
       "Q6 - How often do you change your smartphone?  Q5 - In your opinion, what is the most important feature in a smartphone?\n",
       "Every 2 years                                  Performance/ speed                                                           261\n",
       "                                               Battery life                                                                 150\n",
       "                                               Durability                                                                   134\n",
       "                                               Quality of camera                                                             73\n",
       "                                               Design                                                                        38\n",
       "                                               Brand of phone                                                                25\n",
       "                                               Size of screen                                                                23\n",
       "                                               Screen resolution                                                             16\n",
       "                                               None of the above                                                              3\n",
       "Every 3 years                                  Performance/ speed                                                            71\n",
       "                                               Battery life                                                                  45\n",
       "                                               Durability                                                                    39\n",
       "                                               Quality of camera                                                             24\n",
       "                                               Brand of phone                                                                 8\n",
       "                                               Design                                                                         7\n",
       "                                               Size of screen                                                                 6\n",
       "                                               Screen resolution                                                              3\n",
       "Every 6 months or less                         Battery life                                                                   8\n",
       "                                               Design                                                                         4\n",
       "                                               Quality of camera                                                              3\n",
       "                                               Performance/ speed                                                             2\n",
       "                                               Size of screen                                                                 2\n",
       "                                               Brand of phone                                                                 1\n",
       "                                               Durability                                                                     1\n",
       "Every year                                     Performance/ speed                                                            53\n",
       "                                               Battery life                                                                  36\n",
       "                                               Durability                                                                    17\n",
       "                                               Design                                                                        10\n",
       "                                               Quality of camera                                                             10\n",
       "                                               Brand of phone                                                                 9\n",
       "                                               Size of screen                                                                 6\n",
       "                                               Screen resolution                                                              5\n",
       "                                               None of the above                                                              3\n",
       "Longer than 3 years                            Performance/ speed                                                            38\n",
       "                                               Battery life                                                                  32\n",
       "                                               Durability                                                                    29\n",
       "                                               Quality of camera                                                              6\n",
       "                                               Brand of phone                                                                 3\n",
       "                                               Design                                                                         3\n",
       "                                               Screen resolution                                                              3\n",
       "                                               Size of screen                                                                 2\n",
       "Only when it breaks down                       Durability                                                                    43\n",
       "                                               Performance/ speed                                                            43\n",
       "                                               Battery life                                                                  36\n",
       "                                               Quality of camera                                                             14\n",
       "                                               Size of screen                                                                 7\n",
       "                                               None of the above                                                              5\n",
       "                                               Design                                                                         4\n",
       "                                               Brand of phone                                                                 3\n",
       "                                               Screen resolution                                                              3\n",
       "Name: Q5 - In your opinion, what is the most important feature in a smartphone?, dtype: int64"
      ]
     },
     "execution_count": 25,
     "metadata": {},
     "output_type": "execute_result"
    }
   ],
   "source": [
    "# This question uses both Q5 and Q6\n",
    "df9 = data_copy[['Q6 - How often do you change your smartphone?', 'Q5 - In your opinion, what is the most important feature in a smartphone?']]\n",
    "df9.groupby('Q6 - How often do you change your smartphone?')['Q5 - In your opinion, what is the most important feature in a smartphone?'].value_counts()"
   ]
  },
  {
   "cell_type": "markdown",
   "id": "f08dd19b",
   "metadata": {},
   "source": [
    "### Q10"
   ]
  },
  {
   "cell_type": "code",
   "execution_count": 7,
   "id": "3d9f0db4",
   "metadata": {},
   "outputs": [
    {
     "data": {
      "text/plain": [
       "Gender  Q5 - In your opinion, what is the most important feature in a smartphone?\n",
       "female  Performance/ speed                                                           211\n",
       "        Durability                                                                   147\n",
       "        Battery life                                                                 140\n",
       "        Quality of camera                                                             93\n",
       "        Brand of phone                                                                26\n",
       "        Size of screen                                                                26\n",
       "        Design                                                                        23\n",
       "        Screen resolution                                                             16\n",
       "        None of the above                                                              3\n",
       "male    Performance/ speed                                                           257\n",
       "        Battery life                                                                 167\n",
       "        Durability                                                                   116\n",
       "        Design                                                                        43\n",
       "        Quality of camera                                                             37\n",
       "        Brand of phone                                                                23\n",
       "        Size of screen                                                                20\n",
       "        Screen resolution                                                             14\n",
       "        None of the above                                                              8\n",
       "Name: Q5 - In your opinion, what is the most important feature in a smartphone?, dtype: int64"
      ]
     },
     "execution_count": 7,
     "metadata": {},
     "output_type": "execute_result"
    }
   ],
   "source": [
    "# Similar to question 9 but this time use genders rather than changing phone\n",
    "df10 = data_copy[['Gender', 'Q5 - In your opinion, what is the most important feature in a smartphone?']]\n",
    "df10.groupby('Gender')['Q5 - In your opinion, what is the most important feature in a smartphone?'].value_counts()"
   ]
  },
  {
   "cell_type": "markdown",
   "id": "93c52976",
   "metadata": {},
   "source": [
    "### Q11"
   ]
  },
  {
   "cell_type": "code",
   "execution_count": 13,
   "id": "e8027d96",
   "metadata": {},
   "outputs": [
    {
     "data": {
      "text/plain": [
       "Age       Q1 - In general, how do you feel about foldable smartphones with bendable screens?\n",
       "(26, 36]  I like them a little                                                                  150\n",
       "          I dislike them a little                                                                88\n",
       "          I like them a lot                                                                      59\n",
       "          I love them                                                                            31\n",
       "          I dislike them a lot                                                                   14\n",
       "          I hate them                                                                            10\n",
       "(36, 46]  I like them a little                                                                  152\n",
       "          I like them a lot                                                                      75\n",
       "          I dislike them a little                                                                50\n",
       "          I love them                                                                            47\n",
       "          I dislike them a lot                                                                   10\n",
       "          I hate them                                                                             4\n",
       "(46, 56]  I like them a little                                                                   98\n",
       "          I like them a lot                                                                      61\n",
       "          I love them                                                                            32\n",
       "          I dislike them a little                                                                31\n",
       "          I dislike them a lot                                                                    7\n",
       "          I hate them                                                                             4\n",
       "(56, 66]  I like them a little                                                                   40\n",
       "          I like them a lot                                                                      33\n",
       "          I love them                                                                            18\n",
       "          I dislike them a little                                                                13\n",
       "          I dislike them a lot                                                                    3\n",
       "(66, 76]  I like them a little                                                                   12\n",
       "          I dislike them a little                                                                 4\n",
       "          I like them a lot                                                                       4\n",
       "          I dislike them a lot                                                                    2\n",
       "          I love them                                                                             1\n",
       "Name: Q1 - In general, how do you feel about foldable smartphones with bendable screens?, dtype: int64"
      ]
     },
     "execution_count": 13,
     "metadata": {},
     "output_type": "execute_result"
    }
   ],
   "source": [
    "# Again very similar to Question 9 but using survey Q1 to see different age group feelings towards phones \n",
    "df11 = data_copy[['Age', 'Q1 - In general, how do you feel about foldable smartphones with bendable screens?']]\n",
    "ranges = [26,36,46,56,66,76]\n",
    "\n",
    "df11.groupby(pd.cut(df11.Age, ranges))['Q1 - In general, how do you feel about foldable smartphones with bendable screens?'].value_counts()"
   ]
  },
  {
   "cell_type": "markdown",
   "id": "4636613a",
   "metadata": {},
   "source": [
    "### Q12"
   ]
  },
  {
   "cell_type": "code",
   "execution_count": 22,
   "id": "21153345",
   "metadata": {},
   "outputs": [
    {
     "data": {
      "text/plain": [
       "Gender  Q1 - In general, how do you feel about foldable smartphones with bendable screens?  Q2 - How likely are you to purchase a foldable phone with a bendable screen the next time you make a smartphone purchase?\n",
       "female  I dislike them a little                                                             Somewhat unlikely                                                                                                             68\n",
       "                                                                                            Very unlikely                                                                                                                 34\n",
       "                                                                                            Unlikely                                                                                                                      31\n",
       "                                                                                            Somewhat likely                                                                                                                4\n",
       "                                                                                            Very likely                                                                                                                    3\n",
       "                                                                                            Likely                                                                                                                         1\n",
       "        I dislike them a lot                                                                Very unlikely                                                                                                                 12\n",
       "                                                                                            Unlikely                                                                                                                       8\n",
       "                                                                                            Somewhat unlikely                                                                                                              5\n",
       "        I hate them                                                                         Very unlikely                                                                                                                  8\n",
       "                                                                                            Somewhat unlikely                                                                                                              1\n",
       "        I like them a little                                                                Somewhat likely                                                                                                              113\n",
       "                                                                                            Somewhat unlikely                                                                                                            107\n",
       "                                                                                            Unlikely                                                                                                                      33\n",
       "                                                                                            Very unlikely                                                                                                                 24\n",
       "                                                                                            Likely                                                                                                                        15\n",
       "                                                                                            Very likely                                                                                                                    1\n",
       "        I like them a lot                                                                   Likely                                                                                                                        62\n",
       "                                                                                            Somewhat likely                                                                                                               53\n",
       "                                                                                            Somewhat unlikely                                                                                                             17\n",
       "                                                                                            Unlikely                                                                                                                       5\n",
       "                                                                                            Very likely                                                                                                                    5\n",
       "                                                                                            Very unlikely                                                                                                                  1\n",
       "        I love them                                                                         Very likely                                                                                                                   27\n",
       "                                                                                            Likely                                                                                                                        25\n",
       "                                                                                            Somewhat likely                                                                                                               13\n",
       "                                                                                            Somewhat unlikely                                                                                                              4\n",
       "                                                                                            Unlikely                                                                                                                       4\n",
       "                                                                                            Very unlikely                                                                                                                  1\n",
       "male    I dislike them a little                                                             Somewhat unlikely                                                                                                             55\n",
       "                                                                                            Very unlikely                                                                                                                 31\n",
       "                                                                                            Unlikely                                                                                                                      29\n",
       "                                                                                            Somewhat likely                                                                                                                8\n",
       "        I dislike them a lot                                                                Very unlikely                                                                                                                 17\n",
       "                                                                                            Unlikely                                                                                                                      11\n",
       "                                                                                            Somewhat unlikely                                                                                                              3\n",
       "        I hate them                                                                         Very unlikely                                                                                                                 12\n",
       "                                                                                            Unlikely                                                                                                                       1\n",
       "        I like them a little                                                                Somewhat unlikely                                                                                                            113\n",
       "                                                                                            Somewhat likely                                                                                                               98\n",
       "                                                                                            Unlikely                                                                                                                      38\n",
       "                                                                                            Very unlikely                                                                                                                 30\n",
       "                                                                                            Likely                                                                                                                        23\n",
       "                                                                                            Very likely                                                                                                                    3\n",
       "        I like them a lot                                                                   Likely                                                                                                                        54\n",
       "                                                                                            Somewhat likely                                                                                                               48\n",
       "                                                                                            Somewhat unlikely                                                                                                             16\n",
       "                                                                                            Very likely                                                                                                                    8\n",
       "                                                                                            Unlikely                                                                                                                       7\n",
       "                                                                                            Very unlikely                                                                                                                  2\n",
       "        I love them                                                                         Very likely                                                                                                                   39\n",
       "                                                                                            Likely                                                                                                                        21\n",
       "                                                                                            Somewhat likely                                                                                                               11\n",
       "                                                                                            Somewhat unlikely                                                                                                              4\n",
       "                                                                                            Very unlikely                                                                                                                  2\n",
       "                                                                                            Unlikely                                                                                                                       1\n",
       "Name: Q2 - How likely are you to purchase a foldable phone with a bendable screen the next time you make a smartphone purchase?, dtype: int64"
      ]
     },
     "execution_count": 22,
     "metadata": {},
     "output_type": "execute_result"
    }
   ],
   "source": [
    "# Similar to the previous question but this time using gender to check both love of phone and whether to buy one\n",
    "df12 = data_copy[['Gender', \n",
    "                  'Q1 - In general, how do you feel about foldable smartphones with bendable screens?',\n",
    "                  'Q2 - How likely are you to purchase a foldable phone with a bendable screen the next time you make a smartphone purchase?',    \n",
    "                 ]]\n",
    "\n",
    "df12.groupby(['Gender', 'Q1 - In general, how do you feel about foldable smartphones with bendable screens?'])['Q2 - How likely are you to purchase a foldable phone with a bendable screen the next time you make a smartphone purchase?'].value_counts()"
   ]
  },
  {
   "cell_type": "markdown",
   "id": "f0b22eb5",
   "metadata": {},
   "source": [
    "### Q13"
   ]
  },
  {
   "cell_type": "code",
   "execution_count": 36,
   "id": "124a4e2f",
   "metadata": {},
   "outputs": [
    {
     "data": {
      "text/plain": [
       "Age       Q3 - Cool  Q2 - How likely are you to purchase a foldable phone with a bendable screen the next time you make a smartphone purchase?\n",
       "(16, 35]  NO         Somewhat unlikely                                                                                                            119\n",
       "                     Very unlikely                                                                                                                 82\n",
       "                     Unlikely                                                                                                                      64\n",
       "                     Somewhat likely                                                                                                               54\n",
       "                     Likely                                                                                                                        32\n",
       "                     Very likely                                                                                                                   11\n",
       "          YES        Somewhat unlikely                                                                                                             74\n",
       "                     Somewhat likely                                                                                                               70\n",
       "                     Likely                                                                                                                        42\n",
       "                     Unlikely                                                                                                                      36\n",
       "Name: Q2 - How likely are you to purchase a foldable phone with a bendable screen the next time you make a smartphone purchase?, dtype: int64"
      ]
     },
     "execution_count": 36,
     "metadata": {},
     "output_type": "execute_result"
    }
   ],
   "source": [
    "df13 = data_copy[['Age', 'Q2 - How likely are you to purchase a foldable phone with a bendable screen the next time you make a smartphone purchase?', 'Q3 - Cool']]\n",
    "ranges = [16,35,45,55,65,75]\n",
    "df13 = df13.groupby([pd.cut(df13.Age, ranges), 'Q3 - Cool'])['Q2 - How likely are you to purchase a foldable phone with a bendable screen the next time you make a smartphone purchase?'].value_counts()\n",
    "df13.head(10)"
   ]
  },
  {
   "cell_type": "markdown",
   "id": "2660761f",
   "metadata": {},
   "source": [
    "### Q14"
   ]
  },
  {
   "cell_type": "code",
   "execution_count": null,
   "id": "2d164d2f",
   "metadata": {},
   "outputs": [],
   "source": []
  },
  {
   "cell_type": "code",
   "execution_count": null,
   "id": "cd64a98e",
   "metadata": {},
   "outputs": [],
   "source": []
  },
  {
   "cell_type": "code",
   "execution_count": null,
   "id": "ea86d456",
   "metadata": {},
   "outputs": [],
   "source": []
  },
  {
   "cell_type": "code",
   "execution_count": null,
   "id": "7cf79f4e",
   "metadata": {},
   "outputs": [],
   "source": []
  }
 ],
 "metadata": {
  "kernelspec": {
   "display_name": "Python 3 (ipykernel)",
   "language": "python",
   "name": "python3"
  },
  "language_info": {
   "codemirror_mode": {
    "name": "ipython",
    "version": 3
   },
   "file_extension": ".py",
   "mimetype": "text/x-python",
   "name": "python",
   "nbconvert_exporter": "python",
   "pygments_lexer": "ipython3",
   "version": "3.8.8"
  }
 },
 "nbformat": 4,
 "nbformat_minor": 5
}
