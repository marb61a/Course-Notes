{
 "cells": [
  {
   "cell_type": "markdown",
   "metadata": {},
   "source": [
    "## Multiprocess"
   ]
  },
  {
   "cell_type": "code",
   "execution_count": 32,
   "metadata": {},
   "outputs": [],
   "source": [
    "from multiprocessing import Process"
   ]
  },
  {
   "cell_type": "code",
   "execution_count": 55,
   "metadata": {},
   "outputs": [],
   "source": [
    "def showSquare(num = 2):\n",
    "    print(num ** 2)"
   ]
  },
  {
   "cell_type": "code",
   "execution_count": 56,
   "metadata": {},
   "outputs": [],
   "source": [
    "# Create a list of processes to be ran in parallel\n",
    "procs = []"
   ]
  },
  {
   "cell_type": "code",
   "execution_count": 57,
   "metadata": {},
   "outputs": [],
   "source": [
    "for i in range(5):\n",
    "    procs.append(Process(target = showSquare, args = (i+1, )))"
   ]
  },
  {
   "cell_type": "code",
   "execution_count": 58,
   "metadata": {},
   "outputs": [
    {
     "name": "stdout",
     "output_type": "stream",
     "text": [
      "Hello\n"
     ]
    }
   ],
   "source": [
    "# Start the processes\n",
    "for proc in procs:\n",
    "    proc.start()\n",
    "# Can be printed anywhere in the series of 5 processes\n",
    "print('Hello')"
   ]
  },
  {
   "cell_type": "code",
   "execution_count": 59,
   "metadata": {},
   "outputs": [
    {
     "name": "stdout",
     "output_type": "stream",
     "text": [
      "<Process name='Process-48' pid=9684 parent=7412 stopped exitcode=1>\n",
      "<Process name='Process-49' pid=2608 parent=7412 stopped exitcode=1>\n",
      "<Process name='Process-50' pid=14868 parent=7412 stopped exitcode=1>\n",
      "<Process name='Process-51' pid=2084 parent=7412 stopped exitcode=1>\n",
      "<Process name='Process-52' pid=12488 parent=7412 stopped exitcode=1>\n"
     ]
    }
   ],
   "source": [
    "# After starting then join to see the result of each one\n",
    "for proc in procs:\n",
    "    # This is done in a blocking manner\n",
    "    proc.join()\n",
    "    print(proc)"
   ]
  },
  {
   "cell_type": "markdown",
   "metadata": {},
   "source": [
    "## Multi Threading"
   ]
  },
  {
   "cell_type": "code",
   "execution_count": 60,
   "metadata": {},
   "outputs": [],
   "source": [
    "from threading import Thread"
   ]
  },
  {
   "cell_type": "code",
   "execution_count": 61,
   "metadata": {},
   "outputs": [],
   "source": [
    "def square(n):\n",
    "    print(\"The square is \", n**2)\n",
    "\n",
    "def cube(n):\n",
    "    print(\"The cube is \", n**3)"
   ]
  },
  {
   "cell_type": "code",
   "execution_count": 64,
   "metadata": {},
   "outputs": [],
   "source": [
    "t1 = Thread(target = square, args = (4, ))\n",
    "t2 = Thread(target = cube, args = (3, ))"
   ]
  },
  {
   "cell_type": "code",
   "execution_count": 65,
   "metadata": {},
   "outputs": [
    {
     "name": "stdout",
     "output_type": "stream",
     "text": [
      "The square is  16\n",
      "The cube is Hello\n",
      " 27\n"
     ]
    }
   ],
   "source": [
    "# This show that things are running asynchronously\n",
    "t1.start()\n",
    "t2.start()\n",
    "print(\"Hello\")"
   ]
  },
  {
   "cell_type": "code",
   "execution_count": 66,
   "metadata": {},
   "outputs": [],
   "source": [
    "# join is a synchronous method\n",
    "t1.join()"
   ]
  },
  {
   "cell_type": "code",
   "execution_count": 67,
   "metadata": {},
   "outputs": [],
   "source": [
    "t2.join()"
   ]
  },
  {
   "cell_type": "code",
   "execution_count": 68,
   "metadata": {},
   "outputs": [],
   "source": [
    "# Resoource sharing using multi threading\n",
    "# Queue here has the proper locks needed\n",
    "from queue import Queue"
   ]
  },
  {
   "cell_type": "code",
   "execution_count": 69,
   "metadata": {},
   "outputs": [],
   "source": [
    "def producer(q):\n",
    "    for i in range(5):\n",
    "        q.put(i)\n",
    "        print(\"Publised \", i)\n",
    "\n",
    "def consumer(q):\n",
    "    while True:\n",
    "        data = q.get()\n",
    "        print(\"Consumed \", data)\n",
    "    "
   ]
  },
  {
   "cell_type": "code",
   "execution_count": 70,
   "metadata": {},
   "outputs": [],
   "source": [
    "# Create a queue\n",
    "q = Queue()"
   ]
  },
  {
   "cell_type": "code",
   "execution_count": 71,
   "metadata": {},
   "outputs": [],
   "source": [
    "producer_thread = Thread(target = producer, args = (q, ))\n",
    "consumer_thread = Thread(target = consumer, args = (q, ))"
   ]
  },
  {
   "cell_type": "code",
   "execution_count": 72,
   "metadata": {},
   "outputs": [],
   "source": [
    "consumer_thread.start()"
   ]
  },
  {
   "cell_type": "code",
   "execution_count": 73,
   "metadata": {},
   "outputs": [
    {
     "name": "stdout",
     "output_type": "stream",
     "text": [
      "Publised Consumed  0\n",
      " 0\n",
      "Publised  1\n",
      "Publised  2\n",
      "Publised  3\n",
      "Publised  4\n",
      "Consumed  1\n",
      "Consumed  2\n",
      "Consumed  3\n",
      "Consumed  4\n"
     ]
    }
   ],
   "source": [
    "producer_thread.start()"
   ]
  },
  {
   "cell_type": "code",
   "execution_count": null,
   "metadata": {},
   "outputs": [],
   "source": []
  }
 ],
 "metadata": {
  "kernelspec": {
   "display_name": "Python 3",
   "language": "python",
   "name": "python3"
  },
  "language_info": {
   "codemirror_mode": {
    "name": "ipython",
    "version": 3
   },
   "file_extension": ".py",
   "mimetype": "text/x-python",
   "name": "python",
   "nbconvert_exporter": "python",
   "pygments_lexer": "ipython3",
   "version": "3.8.5"
  }
 },
 "nbformat": 4,
 "nbformat_minor": 4
}
