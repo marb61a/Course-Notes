{
 "cells": [
  {
   "cell_type": "code",
   "execution_count": 1,
   "metadata": {},
   "outputs": [],
   "source": [
    "class SchoolMember:\n",
    "    # This represents anyone that is a member of the school\n",
    "    def __init__(self, name, age):\n",
    "        self.name = name\n",
    "        self.age = age\n",
    "        print('(Initialised Schoolmember: {})'.format(self.name))\n",
    "    \n",
    "    def tell():\n",
    "        # Display my details\n",
    "        print('Names: \"{}\" Age: \"{}\"'.format(self.name, self.age), end=\" \")\n",
    "        "
   ]
  },
  {
   "cell_type": "code",
   "execution_count": 11,
   "metadata": {},
   "outputs": [],
   "source": [
    "# Inherits from SchoolMember class\n",
    "class Teacher(SchoolMember):\n",
    "    # Represents a teacher\n",
    "    def __init__(self, name, age, salary):\n",
    "#         SchoolMember.__init__(self, name, age)\n",
    "        super().__init__(name, age)\n",
    "        self.salary = salary\n",
    "        print('(Initialised Teacher: {})'.format(self.name))\n",
    "    \n",
    "    def tell(self):\n",
    "        SchoolMember.tell(self)\n",
    "        print('Salary: \"{:d}\"'.format(self.salary))"
   ]
  },
  {
   "cell_type": "code",
   "execution_count": 12,
   "metadata": {},
   "outputs": [],
   "source": [
    "# Inherits from SchoolMember class\n",
    "class Student(SchoolMember):\n",
    "    # Represents a student\n",
    "    def __init__(self, name, age, marks):\n",
    "        SchoolMember.__init__(self, name, age)\n",
    "        self.marks = marks\n",
    "        print('(Initialised Teacher: {})'.format(self.name))\n",
    "    \n",
    "    def tell(self):\n",
    "        SchoolMember.tell(self)\n",
    "        print('Marks: \"{:d}\"'.format(self.marks))"
   ]
  },
  {
   "cell_type": "code",
   "execution_count": 13,
   "metadata": {},
   "outputs": [
    {
     "name": "stdout",
     "output_type": "stream",
     "text": [
      "(Initialised Schoolmember: Mr Smith)\n",
      "(Initialised Teacher: Mr Smith)\n",
      "(Initialised Schoolmember: Joe Bloggs)\n",
      "(Initialised Teacher: Joe Bloggs)\n"
     ]
    }
   ],
   "source": [
    "t = Teacher('Mr Smith', 35, 50000)\n",
    "s = Student('Joe Bloggs', 21, 75)"
   ]
  },
  {
   "cell_type": "code",
   "execution_count": null,
   "metadata": {},
   "outputs": [],
   "source": []
  }
 ],
 "metadata": {
  "kernelspec": {
   "display_name": "Python 3",
   "language": "python",
   "name": "python3"
  },
  "language_info": {
   "codemirror_mode": {
    "name": "ipython",
    "version": 3
   },
   "file_extension": ".py",
   "mimetype": "text/x-python",
   "name": "python",
   "nbconvert_exporter": "python",
   "pygments_lexer": "ipython3",
   "version": "3.8.5"
  }
 },
 "nbformat": 4,
 "nbformat_minor": 4
}
