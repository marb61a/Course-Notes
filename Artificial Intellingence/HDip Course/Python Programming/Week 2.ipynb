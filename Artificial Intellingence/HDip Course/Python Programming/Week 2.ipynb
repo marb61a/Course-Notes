{
 "cells": [
  {
   "cell_type": "code",
   "execution_count": 2,
   "metadata": {},
   "outputs": [
    {
     "name": "stdout",
     "output_type": "stream",
     "text": [
      "Go for a walk\n"
     ]
    }
   ],
   "source": [
    "# True must be uppercase\n",
    "# Ctrl+Enter to run individual pieces of code\n",
    "# Run when entering variables to enter them into memory\n",
    "weather_is_good = True\n",
    "car_has_petrol = True\n",
    "\n",
    "if(weather_is_good):\n",
    "    print(\"Go for a walk\")\n"
   ]
  },
  {
   "cell_type": "code",
   "execution_count": 8,
   "metadata": {},
   "outputs": [
    {
     "name": "stdout",
     "output_type": "stream",
     "text": [
      "You can study in Ireland\n",
      "You cannot study in Ireland\n"
     ]
    }
   ],
   "source": [
    "speakEnglish = True\n",
    "speakIrish = False\n",
    "\n",
    "if(speakEnglish or speakIrish):\n",
    "    print(\"You can study in Ireland\")\n",
    "if(speakEnglish or speakIrish):\n",
    "    print(\"You cannot study in Ireland\")"
   ]
  },
  {
   "cell_type": "code",
   "execution_count": 12,
   "metadata": {},
   "outputs": [
    {
     "name": "stdout",
     "output_type": "stream",
     "text": [
      "Please stay at home\n"
     ]
    }
   ],
   "source": [
    "homeworkReady = False\n",
    "\n",
    "if(not homeworkReady):\n",
    "    print(\"Please stay at home\")\n",
    "else:\n",
    "    print(\"Go outside\")"
   ]
  },
  {
   "cell_type": "code",
   "execution_count": 25,
   "metadata": {},
   "outputs": [],
   "source": [
    "age = 17\n",
    "available = True"
   ]
  },
  {
   "cell_type": "code",
   "execution_count": 14,
   "metadata": {},
   "outputs": [
    {
     "name": "stdout",
     "output_type": "stream",
     "text": [
      "Let them in\n"
     ]
    }
   ],
   "source": [
    "if(age >= 21):\n",
    "    print(\"Let them in\")"
   ]
  },
  {
   "cell_type": "code",
   "execution_count": 16,
   "metadata": {},
   "outputs": [
    {
     "name": "stdout",
     "output_type": "stream",
     "text": [
      "They can work on Sunday\n"
     ]
    }
   ],
   "source": [
    "if(age >= 18 and available):\n",
    "    print(\"They can work on Sunday\")"
   ]
  },
  {
   "cell_type": "code",
   "execution_count": 26,
   "metadata": {},
   "outputs": [
    {
     "name": "stdout",
     "output_type": "stream",
     "text": [
      "Ticket price is 5 euro\n"
     ]
    }
   ],
   "source": [
    "if(age >= 0 and age <= 8):\n",
    "    print(\"Ticket price is 2 euro\")\n",
    "elif(age > 8 and age <= 16):\n",
    "    print(\"Ticket price is 3 euro\")\n",
    "elif(age >16 and age <= 65):\n",
    "    print(\"Ticket price is 5 euro\")\n",
    "else:\n",
    "    print(\"Ticket is for free\")"
   ]
  },
  {
   "cell_type": "code",
   "execution_count": 31,
   "metadata": {},
   "outputs": [
    {
     "name": "stdout",
     "output_type": "stream",
     "text": [
      "Numbers are not equal\n"
     ]
    }
   ],
   "source": [
    "numA = 5\n",
    "numB = 6\n",
    "numC = 7\n",
    "\n",
    "if(numA == numB == numC):\n",
    "    print(\"Numbers are the same\")\n",
    "else:\n",
    "    print(\"Numbers are not the same\")"
   ]
  },
  {
   "cell_type": "code",
   "execution_count": 35,
   "metadata": {},
   "outputs": [
    {
     "name": "stdout",
     "output_type": "stream",
     "text": [
      "Insert your name Martin\n",
      "Hello Martin\n"
     ]
    }
   ],
   "source": [
    "answer = input(\"Insert your name \")\n",
    "print(\"Hello \" + answer)"
   ]
  },
  {
   "cell_type": "raw",
   "metadata": {},
   "source": []
  },
  {
   "cell_type": "code",
   "execution_count": 37,
   "metadata": {},
   "outputs": [
    {
     "name": "stdout",
     "output_type": "stream",
     "text": [
      "Enter your birth year1960\n",
      "Your age is  61\n"
     ]
    }
   ],
   "source": [
    "year_of_birth = input(\"Enter your birth year\")\n",
    "age = 2021 - int(year_of_birth)\n",
    "print(\"Your age is \", age)"
   ]
  },
  {
   "cell_type": "code",
   "execution_count": 39,
   "metadata": {},
   "outputs": [
    {
     "name": "stdout",
     "output_type": "stream",
     "text": [
      "Enter a number 5\n",
      "Number is odd\n"
     ]
    }
   ],
   "source": [
    "number_entered = input(\"Enter a number \")\n",
    "if(int(number_entered)% 2 == 0):\n",
    "    print(\"Number is even\")\n",
    "else:\n",
    "    print(\"Number is odd\")"
   ]
  },
  {
   "cell_type": "code",
   "execution_count": 48,
   "metadata": {},
   "outputs": [
    {
     "name": "stdout",
     "output_type": "stream",
     "text": [
      "Enter a number 34\n",
      "Number entered  34  is positive\n"
     ]
    }
   ],
   "source": [
    "number_entered = input(\"Enter a number \")\n",
    "\n",
    "if(int(number_entered) > 0):\n",
    "    print(\"Number entered \", number_entered, \" is positive\")\n",
    "elif(int(number_entered) < 0):\n",
    "    print(\"Number entered \", number_entered, \" is negative\")\n",
    "else:\n",
    "    print(\"Number is zero\")"
   ]
  },
  {
   "cell_type": "code",
   "execution_count": 7,
   "metadata": {},
   "outputs": [
    {
     "name": "stdout",
     "output_type": "stream",
     "text": [
      "Enter a number 1\n",
      "Enter a second number 0\n",
      "Enter a third number 0\n",
      "0\n",
      "Sol 3 is 0.0\n"
     ]
    }
   ],
   "source": [
    "number_enteredA = input(\"Enter a number \")\n",
    "number_enteredB = input(\"Enter a second number \")\n",
    "number_enteredC = input(\"Enter a third number \")\n",
    "\n",
    "number_entered1 = int(number_enteredA)\n",
    "number_entered2 = int(number_enteredB)\n",
    "number_entered3 = int(number_enteredC)\n",
    "\n",
    "#Discriminant which will determine whether there are solutions\n",
    "num_discriminant = (number_entered2**2) - (4*number_entered1*number_entered3)\n",
    "print(num_discriminant)\n",
    "\n",
    "if(num_discriminant > 0):\n",
    "    sol1 = (-number_entered2 + (num_discriminant**(1/2))) / (2*number_entered1)\n",
    "    sol2 = (-number_entered2 - (num_discriminant**(1/2))) / (2*number_entered1)\n",
    "    print(\"Sol 1 is \", sol1)\n",
    "    print(\"Sol 2 is \", sol2)\n",
    "elif(num_discriminant < 0):\n",
    "    print(\"There is no real solution\")\n",
    "elif(num_discriminant == 0):\n",
    "    sol3 = (-number_entered2)/(2*number_entered1)\n",
    "    print(\"Sol 3 is\", sol3)\n",
    "\n"
   ]
  }
 ],
 "metadata": {
  "kernelspec": {
   "display_name": "Python 3",
   "language": "python",
   "name": "python3"
  },
  "language_info": {
   "codemirror_mode": {
    "name": "ipython",
    "version": 3
   },
   "file_extension": ".py",
   "mimetype": "text/x-python",
   "name": "python",
   "nbconvert_exporter": "python",
   "pygments_lexer": "ipython3",
   "version": "3.8.5"
  }
 },
 "nbformat": 4,
 "nbformat_minor": 4
}
