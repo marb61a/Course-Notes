{
 "cells": [
  {
   "cell_type": "code",
   "execution_count": 1,
   "metadata": {},
   "outputs": [],
   "source": [
    "grades = {\"Maths\" : 85,\n",
    "          \"Geography\" : 60,\n",
    "          \"Physical Education\" : 90,\n",
    "          \"Music\" : 72}\n",
    "\n",
    "options = \"-Press A to see all grades\\n-Press B to calculate the average\\n\""
   ]
  },
  {
   "cell_type": "code",
   "execution_count": 2,
   "metadata": {},
   "outputs": [
    {
     "name": "stdout",
     "output_type": "stream",
     "text": [
      "-Press A to see all grades\n",
      "-Press B to calculate the average\n",
      "B\n",
      "76.75\n"
     ]
    }
   ],
   "source": [
    "import math\n",
    "def fncA():\n",
    "    for g in grades.items():\n",
    "        print(g)\n",
    "def fncB():\n",
    "    total = 0\n",
    "    count = 0\n",
    "    for g in grades.values():\n",
    "        count+=1\n",
    "        total += g\n",
    "    print(total/count)\n",
    "validAnswer = False\n",
    "while(not validAnswer):\n",
    "    ans = input(options)\n",
    "    if(ans == 'A'):\n",
    "        fncA()\n",
    "        validAnswer = True\n",
    "    elif(ans == 'B'):\n",
    "        fncB()\n",
    "        validAnswer = True\n",
    "    else:\n",
    "        print(\"The option is not valid. Please enter 'A' or 'B'\")\n"
   ]
  },
  {
   "cell_type": "code",
   "execution_count": 3,
   "metadata": {},
   "outputs": [],
   "source": [
    "grades = {\"Maths\" : 85,\n",
    "          \"Geography\" : 60,\n",
    "          \"Physical Education\" : 90,\n",
    "          \"Music\" : 72}\n",
    "\n",
    "options = \"-Press A to see all grades\\n-Press B to calculate the average\\nPress C to add a new grade to the records\""
   ]
  },
  {
   "cell_type": "code",
   "execution_count": 8,
   "metadata": {},
   "outputs": [
    {
     "name": "stdout",
     "output_type": "stream",
     "text": [
      "-Press A to see all grades\n",
      "-Press B to calculate the average\n",
      "Press C to add a new grade to the recordsB\n"
     ]
    },
    {
     "ename": "TypeError",
     "evalue": "unsupported operand type(s) for +=: 'int' and 'str'",
     "output_type": "error",
     "traceback": [
      "\u001b[1;31m---------------------------------------------------------------------------\u001b[0m",
      "\u001b[1;31mTypeError\u001b[0m                                 Traceback (most recent call last)",
      "\u001b[1;32m<ipython-input-8-393c95706532>\u001b[0m in \u001b[0;36m<module>\u001b[1;34m\u001b[0m\n\u001b[0;32m     21\u001b[0m         \u001b[0mvalidAnswer\u001b[0m \u001b[1;33m=\u001b[0m \u001b[1;32mTrue\u001b[0m\u001b[1;33m\u001b[0m\u001b[1;33m\u001b[0m\u001b[0m\n\u001b[0;32m     22\u001b[0m     \u001b[1;32melif\u001b[0m\u001b[1;33m(\u001b[0m\u001b[0mans\u001b[0m \u001b[1;33m==\u001b[0m \u001b[1;34m'B'\u001b[0m\u001b[1;33m)\u001b[0m\u001b[1;33m:\u001b[0m\u001b[1;33m\u001b[0m\u001b[1;33m\u001b[0m\u001b[0m\n\u001b[1;32m---> 23\u001b[1;33m         \u001b[0mfncB\u001b[0m\u001b[1;33m(\u001b[0m\u001b[1;33m)\u001b[0m\u001b[1;33m\u001b[0m\u001b[1;33m\u001b[0m\u001b[0m\n\u001b[0m\u001b[0;32m     24\u001b[0m         \u001b[0mvalidAnswer\u001b[0m \u001b[1;33m=\u001b[0m \u001b[1;32mTrue\u001b[0m\u001b[1;33m\u001b[0m\u001b[1;33m\u001b[0m\u001b[0m\n\u001b[0;32m     25\u001b[0m     \u001b[1;32melif\u001b[0m\u001b[1;33m(\u001b[0m\u001b[0mans\u001b[0m \u001b[1;33m==\u001b[0m \u001b[1;34m'C'\u001b[0m\u001b[1;33m)\u001b[0m\u001b[1;33m:\u001b[0m\u001b[1;33m\u001b[0m\u001b[1;33m\u001b[0m\u001b[0m\n",
      "\u001b[1;32m<ipython-input-8-393c95706532>\u001b[0m in \u001b[0;36mfncB\u001b[1;34m()\u001b[0m\n\u001b[0;32m      8\u001b[0m     \u001b[1;32mfor\u001b[0m \u001b[0mg\u001b[0m \u001b[1;32min\u001b[0m \u001b[0mgrades\u001b[0m\u001b[1;33m.\u001b[0m\u001b[0mvalues\u001b[0m\u001b[1;33m(\u001b[0m\u001b[1;33m)\u001b[0m\u001b[1;33m:\u001b[0m\u001b[1;33m\u001b[0m\u001b[1;33m\u001b[0m\u001b[0m\n\u001b[0;32m      9\u001b[0m         \u001b[0mcount\u001b[0m\u001b[1;33m+=\u001b[0m\u001b[1;36m1\u001b[0m\u001b[1;33m\u001b[0m\u001b[1;33m\u001b[0m\u001b[0m\n\u001b[1;32m---> 10\u001b[1;33m         \u001b[0mtotal\u001b[0m \u001b[1;33m+=\u001b[0m \u001b[0mg\u001b[0m\u001b[1;33m\u001b[0m\u001b[1;33m\u001b[0m\u001b[0m\n\u001b[0m\u001b[0;32m     11\u001b[0m     \u001b[0mprint\u001b[0m\u001b[1;33m(\u001b[0m\u001b[0mtotal\u001b[0m\u001b[1;33m/\u001b[0m\u001b[0mcount\u001b[0m\u001b[1;33m)\u001b[0m\u001b[1;33m\u001b[0m\u001b[1;33m\u001b[0m\u001b[0m\n\u001b[0;32m     12\u001b[0m \u001b[1;32mdef\u001b[0m \u001b[0mfncC\u001b[0m\u001b[1;33m(\u001b[0m\u001b[1;33m)\u001b[0m\u001b[1;33m:\u001b[0m\u001b[1;33m\u001b[0m\u001b[1;33m\u001b[0m\u001b[0m\n",
      "\u001b[1;31mTypeError\u001b[0m: unsupported operand type(s) for +=: 'int' and 'str'"
     ]
    }
   ],
   "source": [
    "import math\n",
    "def fncA():\n",
    "    for g in grades.items():\n",
    "        print(g)\n",
    "def fncB():\n",
    "    total = 0\n",
    "    count = 0\n",
    "    for g in grades.values():\n",
    "        count+=1\n",
    "        total += g\n",
    "    print(total/count)\n",
    "def fncC():\n",
    "    name = input(\"Please enter name of the subject\")\n",
    "    grade = input(\"Please enter the grade\")\n",
    "    grades[name] = int(grade)\n",
    "validAnswer = False\n",
    "while(not validAnswer):\n",
    "    ans = input(options)\n",
    "    if(ans == 'A'):\n",
    "        fncA()\n",
    "        validAnswer = True\n",
    "    elif(ans == 'B'):\n",
    "        fncB()\n",
    "        validAnswer = True\n",
    "    elif(ans == 'C'):\n",
    "        fncC()\n",
    "        validAnswer = True\n",
    "        print(grades)\n",
    "    else:\n",
    "        print(\"The option is not valid. Please enter 'A' or 'B' or 'C'\")\n"
   ]
  },
  {
   "cell_type": "code",
   "execution_count": null,
   "metadata": {},
   "outputs": [],
   "source": []
  }
 ],
 "metadata": {
  "kernelspec": {
   "display_name": "Python 3",
   "language": "python",
   "name": "python3"
  },
  "language_info": {
   "codemirror_mode": {
    "name": "ipython",
    "version": 3
   },
   "file_extension": ".py",
   "mimetype": "text/x-python",
   "name": "python",
   "nbconvert_exporter": "python",
   "pygments_lexer": "ipython3",
   "version": "3.8.5"
  }
 },
 "nbformat": 4,
 "nbformat_minor": 4
}
