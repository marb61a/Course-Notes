{
 "cells": [
  {
   "cell_type": "code",
   "execution_count": 1,
   "metadata": {},
   "outputs": [],
   "source": [
    "def areaOfSquare(side):\n",
    "    return side**2"
   ]
  },
  {
   "cell_type": "code",
   "execution_count": 2,
   "metadata": {},
   "outputs": [
    {
     "data": {
      "text/plain": [
       "25"
      ]
     },
     "execution_count": 2,
     "metadata": {},
     "output_type": "execute_result"
    }
   ],
   "source": [
    "areaOfSquare(5)"
   ]
  },
  {
   "cell_type": "code",
   "execution_count": 3,
   "metadata": {},
   "outputs": [
    {
     "data": {
      "text/plain": [
       "106.7089"
      ]
     },
     "execution_count": 3,
     "metadata": {},
     "output_type": "execute_result"
    }
   ],
   "source": [
    "areaOfSquare(10.33)"
   ]
  },
  {
   "cell_type": "code",
   "execution_count": 5,
   "metadata": {},
   "outputs": [
    {
     "name": "stdout",
     "output_type": "stream",
     "text": [
      "0 0\n",
      "1 1\n",
      "2 4\n",
      "3 9\n",
      "4 16\n",
      "5 25\n",
      "6 36\n",
      "7 49\n",
      "8 64\n",
      "9 81\n"
     ]
    }
   ],
   "source": [
    "for x in range(10):\n",
    "    print(x, areaOfSquare(x))"
   ]
  },
  {
   "cell_type": "code",
   "execution_count": 7,
   "metadata": {},
   "outputs": [],
   "source": [
    "def areaOfRectangle(width, height):\n",
    "    return width * height"
   ]
  },
  {
   "cell_type": "code",
   "execution_count": 8,
   "metadata": {},
   "outputs": [
    {
     "data": {
      "text/plain": [
       "30"
      ]
     },
     "execution_count": 8,
     "metadata": {},
     "output_type": "execute_result"
    }
   ],
   "source": [
    "areaOfRectangle(5, 6)"
   ]
  },
  {
   "cell_type": "code",
   "execution_count": 9,
   "metadata": {},
   "outputs": [
    {
     "name": "stdout",
     "output_type": "stream",
     "text": [
      "0 0 0\n",
      "0 1 0\n",
      "0 2 0\n",
      "0 3 0\n",
      "0 4 0\n",
      "0 5 0\n",
      "0 6 0\n",
      "0 7 0\n",
      "0 8 0\n",
      "0 9 0\n",
      "1 0 0\n",
      "1 1 1\n",
      "1 2 2\n",
      "1 3 3\n",
      "1 4 4\n",
      "1 5 5\n",
      "1 6 6\n",
      "1 7 7\n",
      "1 8 8\n",
      "1 9 9\n",
      "2 0 0\n",
      "2 1 2\n",
      "2 2 4\n",
      "2 3 6\n",
      "2 4 8\n",
      "2 5 10\n",
      "2 6 12\n",
      "2 7 14\n",
      "2 8 16\n",
      "2 9 18\n",
      "3 0 0\n",
      "3 1 3\n",
      "3 2 6\n",
      "3 3 9\n",
      "3 4 12\n",
      "3 5 15\n",
      "3 6 18\n",
      "3 7 21\n",
      "3 8 24\n",
      "3 9 27\n",
      "4 0 0\n",
      "4 1 4\n",
      "4 2 8\n",
      "4 3 12\n",
      "4 4 16\n",
      "4 5 20\n",
      "4 6 24\n",
      "4 7 28\n",
      "4 8 32\n",
      "4 9 36\n",
      "5 0 0\n",
      "5 1 5\n",
      "5 2 10\n",
      "5 3 15\n",
      "5 4 20\n",
      "5 5 25\n",
      "5 6 30\n",
      "5 7 35\n",
      "5 8 40\n",
      "5 9 45\n",
      "6 0 0\n",
      "6 1 6\n",
      "6 2 12\n",
      "6 3 18\n",
      "6 4 24\n",
      "6 5 30\n",
      "6 6 36\n",
      "6 7 42\n",
      "6 8 48\n",
      "6 9 54\n",
      "7 0 0\n",
      "7 1 7\n",
      "7 2 14\n",
      "7 3 21\n",
      "7 4 28\n",
      "7 5 35\n",
      "7 6 42\n",
      "7 7 49\n",
      "7 8 56\n",
      "7 9 63\n",
      "8 0 0\n",
      "8 1 8\n",
      "8 2 16\n",
      "8 3 24\n",
      "8 4 32\n",
      "8 5 40\n",
      "8 6 48\n",
      "8 7 56\n",
      "8 8 64\n",
      "8 9 72\n",
      "9 0 0\n",
      "9 1 9\n",
      "9 2 18\n",
      "9 3 27\n",
      "9 4 36\n",
      "9 5 45\n",
      "9 6 54\n",
      "9 7 63\n",
      "9 8 72\n",
      "9 9 81\n"
     ]
    }
   ],
   "source": [
    "for x in range(10):\n",
    "    for y in range(10):\n",
    "        print(x, y, areaOfRectangle(x, y))"
   ]
  },
  {
   "cell_type": "code",
   "execution_count": 10,
   "metadata": {},
   "outputs": [],
   "source": [
    "import random"
   ]
  },
  {
   "cell_type": "code",
   "execution_count": 11,
   "metadata": {},
   "outputs": [
    {
     "name": "stdout",
     "output_type": "stream",
     "text": [
      "38\n"
     ]
    }
   ],
   "source": [
    "print(random.randint(1, 50))"
   ]
  },
  {
   "cell_type": "code",
   "execution_count": 12,
   "metadata": {},
   "outputs": [
    {
     "name": "stdout",
     "output_type": "stream",
     "text": [
      "12\n"
     ]
    }
   ],
   "source": [
    "print(random.randint(1, 50))"
   ]
  },
  {
   "cell_type": "code",
   "execution_count": 13,
   "metadata": {},
   "outputs": [
    {
     "name": "stdout",
     "output_type": "stream",
     "text": [
      "12\n",
      "18\n",
      "17\n",
      "25\n",
      "10\n",
      "17\n",
      "29\n",
      "20\n",
      "16\n",
      "10\n",
      "25\n",
      "23\n",
      "14\n",
      "20\n",
      "15\n",
      "11\n",
      "25\n",
      "21\n",
      "25\n",
      "15\n"
     ]
    }
   ],
   "source": [
    "for i in range(20):\n",
    "    randomNumber = random.randint(10, 30)\n",
    "    print(randomNumber)"
   ]
  },
  {
   "cell_type": "code",
   "execution_count": null,
   "metadata": {},
   "outputs": [],
   "source": []
  }
 ],
 "metadata": {
  "kernelspec": {
   "display_name": "Python 3",
   "language": "python",
   "name": "python3"
  },
  "language_info": {
   "codemirror_mode": {
    "name": "ipython",
    "version": 3
   },
   "file_extension": ".py",
   "mimetype": "text/x-python",
   "name": "python",
   "nbconvert_exporter": "python",
   "pygments_lexer": "ipython3",
   "version": "3.8.5"
  }
 },
 "nbformat": 4,
 "nbformat_minor": 4
}
