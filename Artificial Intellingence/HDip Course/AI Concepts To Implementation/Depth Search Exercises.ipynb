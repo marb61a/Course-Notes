{
 "cells": [
  {
   "cell_type": "markdown",
   "metadata": {},
   "source": [
    "Depth First Search"
   ]
  },
  {
   "cell_type": "code",
   "execution_count": 1,
   "metadata": {},
   "outputs": [],
   "source": [
    "# Uses a dictionary to act as adjacency list\n",
    "graph = {\n",
    "    '1': ['2', '3', '4', '9'],\n",
    "    '2': ['1', '8', '9'],\n",
    "    '3': ['4', '5', '6', '7'],\n",
    "    '4': ['1', '2', '3', '6', '7'],\n",
    "    '5': ['3'],\n",
    "    '6': ['3', '4', '8'],\n",
    "    '7': ['3', '4'],\n",
    "    '8': ['2', '6'],\n",
    "    '9': ['1', '2']\n",
    "}"
   ]
  },
  {
   "cell_type": "code",
   "execution_count": 2,
   "metadata": {},
   "outputs": [],
   "source": [
    "# Use a list to keep track of the nodes that are being visited\n",
    "visited = set()"
   ]
  },
  {
   "cell_type": "code",
   "execution_count": 3,
   "metadata": {},
   "outputs": [
    {
     "name": "stdout",
     "output_type": "stream",
     "text": [
      "1\n",
      "2\n",
      "8\n",
      "6\n",
      "3\n",
      "4\n",
      "7\n",
      "5\n",
      "9\n"
     ]
    }
   ],
   "source": [
    "def dfs(visited, graph, node):\n",
    "    if node not in visited:\n",
    "        print(node)\n",
    "        visited.add(node)\n",
    "        for neighbour in graph[node]:\n",
    "            dfs(visited, graph, neighbour)\n",
    "\n",
    "# Driver Code\n",
    "dfs(visited, graph, '1')"
   ]
  },
  {
   "cell_type": "markdown",
   "metadata": {},
   "source": [
    "Names Exercise"
   ]
  },
  {
   "cell_type": "code",
   "execution_count": 16,
   "metadata": {},
   "outputs": [],
   "source": [
    "# Uses a dictionary to act as adjacency list\n",
    "names_graph = {\n",
    "    'John': ['Dorothy', 'David'],\n",
    "    'Dorothy': ['David', 'John'],\n",
    "    'David': ['Dorothy', 'John', 'Arlene'],\n",
    "    'Arlene': ['David', 'Nancy', 'Rudy'],\n",
    "    'Rudy': ['Arlene'],\n",
    "    'Nancy': ['David', 'Arlene', 'Anna', 'James', 'Larry'],\n",
    "    'Anna': ['Elizabeth', 'James', 'Linda', 'Nancy'],\n",
    "    'Elizabeth': ['Anna'],\n",
    "    'James': ['Nancy', 'Anna', 'Linda', 'Larry'],\n",
    "    'Larry': ['Nancy', 'James', 'Linda', 'Carol', 'Ben', 'Oscar'],\n",
    "    'Ben': ['Larry', 'Carol', 'Oscar'],\n",
    "    'Oscar': ['Felicia', 'Carol', 'Larry', 'Ben'],\n",
    "    'Carol': ['Larry', 'Oscar', 'Ben'],\n",
    "    'Felicia': ['Oscar'],\n",
    "    'Linda': ['Anna', 'James', 'Nancy', 'Larry', 'Michael', 'Nora', 'Julia'],\n",
    "    'Julia': ['Michael', 'Nora', 'Linda'],\n",
    "    'Nora': ['Julia', 'Michael', 'Linda'],\n",
    "    'Michael': ['Nora', 'Julia', 'Linda']\n",
    "}"
   ]
  },
  {
   "cell_type": "code",
   "execution_count": 17,
   "metadata": {},
   "outputs": [],
   "source": [
    "# Use a list to keep track of the nodes that are being visited\n",
    "names = set()"
   ]
  },
  {
   "cell_type": "code",
   "execution_count": 18,
   "metadata": {},
   "outputs": [
    {
     "name": "stdout",
     "output_type": "stream",
     "text": [
      "John\n",
      "Dorothy\n",
      "David\n",
      "Arlene\n",
      "Nancy\n",
      "Anna\n",
      "Elizabeth\n",
      "James\n",
      "Linda\n",
      "Larry\n",
      "Carol\n",
      "Oscar\n",
      "Felicia\n",
      "Ben\n",
      "Michael\n",
      "Nora\n",
      "Julia\n",
      "Rudy\n"
     ]
    }
   ],
   "source": [
    "def dfs(visited, graph, node):\n",
    "    if node not in visited:\n",
    "        print(node)\n",
    "        visited.add(node)\n",
    "        for neighbour in graph[node]:\n",
    "            dfs(visited, graph, neighbour)\n",
    "\n",
    "# Driver Code\n",
    "dfs(names, names_graph, 'John')"
   ]
  },
  {
   "cell_type": "code",
   "execution_count": null,
   "metadata": {},
   "outputs": [],
   "source": []
  }
 ],
 "metadata": {
  "kernelspec": {
   "display_name": "Python 3",
   "language": "python",
   "name": "python3"
  },
  "language_info": {
   "codemirror_mode": {
    "name": "ipython",
    "version": 3
   },
   "file_extension": ".py",
   "mimetype": "text/x-python",
   "name": "python",
   "nbconvert_exporter": "python",
   "pygments_lexer": "ipython3",
   "version": "3.8.5"
  }
 },
 "nbformat": 4,
 "nbformat_minor": 4
}
