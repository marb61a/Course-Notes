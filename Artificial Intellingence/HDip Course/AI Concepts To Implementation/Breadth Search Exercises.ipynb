{
 "cells": [
  {
   "cell_type": "code",
   "execution_count": 3,
   "metadata": {},
   "outputs": [],
   "source": [
    "# Uses a dictionary to act as adjacency list\n",
    "graph = {\n",
    "    '1': ['2', '3', '4', '9'],\n",
    "    '2': ['1', '8', '9'],\n",
    "    '3': ['4', '5', '6', '7'],\n",
    "    '4': ['1', '2', '3', '6', '7'],\n",
    "    '5': ['3'],\n",
    "    '6': ['3', '4', '8'],\n",
    "    '7': ['3', '4'],\n",
    "    '8': ['2', '6'],\n",
    "    '9': ['1', '2']\n",
    "}"
   ]
  },
  {
   "cell_type": "code",
   "execution_count": 2,
   "metadata": {},
   "outputs": [],
   "source": [
    "# Use a list to keep track of the nodes that are being visited\n",
    "visited = []"
   ]
  },
  {
   "cell_type": "code",
   "execution_count": 5,
   "metadata": {},
   "outputs": [],
   "source": [
    "# Initialise a queue\n",
    "queue = []"
   ]
  },
  {
   "cell_type": "code",
   "execution_count": 6,
   "metadata": {},
   "outputs": [
    {
     "name": "stdout",
     "output_type": "stream",
     "text": [
      "5 3 4 6 7 1 2 8 9 "
     ]
    }
   ],
   "source": [
    "def bfs(visited, graph, node):\n",
    "    visited.append(node)\n",
    "    queue.append(node)\n",
    "    \n",
    "    while queue:\n",
    "        s = queue.pop(0)\n",
    "        print(s, end = \" \")\n",
    "        \n",
    "        for neighbour in graph[s]:\n",
    "            if neighbour not in visited:\n",
    "                visited.append(neighbour)\n",
    "                queue.append(neighbour)\n",
    "\n",
    "# Driver Code\n",
    "bfs(visited, graph, '5')"
   ]
  },
  {
   "cell_type": "markdown",
   "metadata": {},
   "source": [
    "Names Graph"
   ]
  },
  {
   "cell_type": "code",
   "execution_count": 7,
   "metadata": {},
   "outputs": [],
   "source": [
    "# Uses a dictionary to act as adjacency list\n",
    "names_graph = {\n",
    "    'John': ['Dorothy', 'David'],\n",
    "    'Dorothy': ['David', 'John'],\n",
    "    'David': ['Dorothy', 'John', 'Arlene'],\n",
    "    'Arlene': ['David', 'Nancy', 'Rudy'],\n",
    "    'Rudy': ['Arlene'],\n",
    "    'Nancy': ['David', 'Arlene', 'Anna', 'James', 'Larry'],\n",
    "    'Anna': ['Elizabeth', 'James', 'Linda', 'Nancy'],\n",
    "    'Elizabeth': ['Anna'],\n",
    "    'James': ['Nancy', 'Anna', 'Linda', 'Larry'],\n",
    "    'Larry': ['Nancy', 'James', 'Linda', 'Carol', 'Ben', 'Oscar'],\n",
    "    'Ben': ['Larry', 'Carol', 'Oscar'],\n",
    "    'Oscar': ['Felicia', 'Carol', 'Larry', 'Ben'],\n",
    "    'Carol': ['Larry', 'Oscar', 'Ben'],\n",
    "    'Felicia': ['Oscar'],\n",
    "    'Linda': ['Anna', 'James', 'Nancy', 'Larry', 'Michael', 'Nora', 'Julia'],\n",
    "    'Julia': ['Michael', 'Nora', 'Linda'],\n",
    "    'Nora': ['Julia', 'Michael', 'Linda'],\n",
    "    'Michael': ['Nora', 'Julia', 'Linda']\n",
    "}"
   ]
  },
  {
   "cell_type": "code",
   "execution_count": 8,
   "metadata": {},
   "outputs": [],
   "source": [
    "# Use a list to keep track of the nodes that are being visited\n",
    "visited_names = []"
   ]
  },
  {
   "cell_type": "code",
   "execution_count": 9,
   "metadata": {},
   "outputs": [],
   "source": [
    "# Initialise a queue\n",
    "names_queue = []"
   ]
  },
  {
   "cell_type": "code",
   "execution_count": 10,
   "metadata": {},
   "outputs": [
    {
     "name": "stdout",
     "output_type": "stream",
     "text": [
      "John Dorothy David Arlene Nancy Rudy Anna James Larry Elizabeth Linda Carol Ben Oscar Michael Nora Julia Felicia "
     ]
    }
   ],
   "source": [
    "def bfs(visited_names, names_graph, node):\n",
    "    visited_names.append(node)\n",
    "    queue.append(node)\n",
    "    \n",
    "    while queue:\n",
    "        s = queue.pop(0)\n",
    "        print(s, end = \" \")\n",
    "        \n",
    "        for neighbour in names_graph[s]:\n",
    "            if neighbour not in visited_names:\n",
    "                visited_names.append(neighbour)\n",
    "                queue.append(neighbour)\n",
    "\n",
    "# Driver Code\n",
    "bfs(visited_names, names_graph, 'John')"
   ]
  },
  {
   "cell_type": "code",
   "execution_count": null,
   "metadata": {},
   "outputs": [],
   "source": []
  }
 ],
 "metadata": {
  "kernelspec": {
   "display_name": "Python 3",
   "language": "python",
   "name": "python3"
  },
  "language_info": {
   "codemirror_mode": {
    "name": "ipython",
    "version": 3
   },
   "file_extension": ".py",
   "mimetype": "text/x-python",
   "name": "python",
   "nbconvert_exporter": "python",
   "pygments_lexer": "ipython3",
   "version": "3.8.5"
  }
 },
 "nbformat": 4,
 "nbformat_minor": 4
}
