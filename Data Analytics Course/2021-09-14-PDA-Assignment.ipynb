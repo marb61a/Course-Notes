{
 "cells": [
  {
   "cell_type": "markdown",
   "id": "f2e5b59a",
   "metadata": {},
   "source": [
    "### This is the accompanying notebook for the  Predictive Data Analytics assiignment."
   ]
  },
  {
   "cell_type": "markdown",
   "id": "676f0c9f",
   "metadata": {},
   "source": [
    "#### The notebook will be divided into 3 main parts. The first part will be where we import needed libraries, do some exploration of the dataset. The second part will be dedicated to performing some regression tests and the final part will be where classification tests will be performed."
   ]
  },
  {
   "cell_type": "markdown",
   "id": "b28d4a0d",
   "metadata": {},
   "source": [
    "#### Section 1 -  Regression Data Import and Exploration"
   ]
  },
  {
   "cell_type": "code",
   "execution_count": 1,
   "id": "b4c2b00c",
   "metadata": {},
   "outputs": [],
   "source": [
    "# Importing the libraries\n",
    "import numpy as np\n",
    "import matplotlib.pyplot as plt\n",
    "import pandas as pd"
   ]
  },
  {
   "cell_type": "code",
   "execution_count": 35,
   "id": "f9299c60",
   "metadata": {},
   "outputs": [],
   "source": [
    "# Import the dataset\n",
    "dataset1 = pd.read_csv('./tmdb_5000_movies.csv')"
   ]
  },
  {
   "cell_type": "code",
   "execution_count": 36,
   "id": "c7b0b91d",
   "metadata": {},
   "outputs": [
    {
     "name": "stdout",
     "output_type": "stream",
     "text": [
      "         budget                                             genres  \\\n",
      "0     237000000  [{\"id\": 28, \"name\": \"Action\"}, {\"id\": 12, \"nam...   \n",
      "1     300000000  [{\"id\": 12, \"name\": \"Adventure\"}, {\"id\": 14, \"...   \n",
      "2     245000000  [{\"id\": 28, \"name\": \"Action\"}, {\"id\": 12, \"nam...   \n",
      "3     250000000  [{\"id\": 28, \"name\": \"Action\"}, {\"id\": 80, \"nam...   \n",
      "4     260000000  [{\"id\": 28, \"name\": \"Action\"}, {\"id\": 12, \"nam...   \n",
      "...         ...                                                ...   \n",
      "4798     220000  [{\"id\": 28, \"name\": \"Action\"}, {\"id\": 80, \"nam...   \n",
      "4799       9000  [{\"id\": 35, \"name\": \"Comedy\"}, {\"id\": 10749, \"...   \n",
      "4800          0  [{\"id\": 35, \"name\": \"Comedy\"}, {\"id\": 18, \"nam...   \n",
      "4801          0                                                 []   \n",
      "4802          0                [{\"id\": 99, \"name\": \"Documentary\"}]   \n",
      "\n",
      "                                               homepage      id  \\\n",
      "0                           http://www.avatarmovie.com/   19995   \n",
      "1          http://disney.go.com/disneypictures/pirates/     285   \n",
      "2           http://www.sonypictures.com/movies/spectre/  206647   \n",
      "3                    http://www.thedarkknightrises.com/   49026   \n",
      "4                  http://movies.disney.com/john-carter   49529   \n",
      "...                                                 ...     ...   \n",
      "4798                                                NaN    9367   \n",
      "4799                                                NaN   72766   \n",
      "4800  http://www.hallmarkchannel.com/signedsealeddel...  231617   \n",
      "4801                        http://shanghaicalling.com/  126186   \n",
      "4802                                                NaN   25975   \n",
      "\n",
      "                                               keywords original_language  \\\n",
      "0     [{\"id\": 1463, \"name\": \"culture clash\"}, {\"id\":...                en   \n",
      "1     [{\"id\": 270, \"name\": \"ocean\"}, {\"id\": 726, \"na...                en   \n",
      "2     [{\"id\": 470, \"name\": \"spy\"}, {\"id\": 818, \"name...                en   \n",
      "3     [{\"id\": 849, \"name\": \"dc comics\"}, {\"id\": 853,...                en   \n",
      "4     [{\"id\": 818, \"name\": \"based on novel\"}, {\"id\":...                en   \n",
      "...                                                 ...               ...   \n",
      "4798  [{\"id\": 5616, \"name\": \"united states\\u2013mexi...                es   \n",
      "4799                                                 []                en   \n",
      "4800  [{\"id\": 248, \"name\": \"date\"}, {\"id\": 699, \"nam...                en   \n",
      "4801                                                 []                en   \n",
      "4802  [{\"id\": 1523, \"name\": \"obsession\"}, {\"id\": 224...                en   \n",
      "\n",
      "                                original_title  \\\n",
      "0                                       Avatar   \n",
      "1     Pirates of the Caribbean: At World's End   \n",
      "2                                      Spectre   \n",
      "3                        The Dark Knight Rises   \n",
      "4                                  John Carter   \n",
      "...                                        ...   \n",
      "4798                               El Mariachi   \n",
      "4799                                 Newlyweds   \n",
      "4800                 Signed, Sealed, Delivered   \n",
      "4801                          Shanghai Calling   \n",
      "4802                         My Date with Drew   \n",
      "\n",
      "                                               overview  popularity  \\\n",
      "0     In the 22nd century, a paraplegic Marine is di...  150.437577   \n",
      "1     Captain Barbossa, long believed to be dead, ha...  139.082615   \n",
      "2     A cryptic message from Bond’s past sends him o...  107.376788   \n",
      "3     Following the death of District Attorney Harve...  112.312950   \n",
      "4     John Carter is a war-weary, former military ca...   43.926995   \n",
      "...                                                 ...         ...   \n",
      "4798  El Mariachi just wants to play his guitar and ...   14.269792   \n",
      "4799  A newlywed couple's honeymoon is upended by th...    0.642552   \n",
      "4800  \"Signed, Sealed, Delivered\" introduces a dedic...    1.444476   \n",
      "4801  When ambitious New York attorney Sam is sent t...    0.857008   \n",
      "4802  Ever since the second grade when he first saw ...    1.929883   \n",
      "\n",
      "                                   production_companies  \\\n",
      "0     [{\"name\": \"Ingenious Film Partners\", \"id\": 289...   \n",
      "1     [{\"name\": \"Walt Disney Pictures\", \"id\": 2}, {\"...   \n",
      "2     [{\"name\": \"Columbia Pictures\", \"id\": 5}, {\"nam...   \n",
      "3     [{\"name\": \"Legendary Pictures\", \"id\": 923}, {\"...   \n",
      "4           [{\"name\": \"Walt Disney Pictures\", \"id\": 2}]   \n",
      "...                                                 ...   \n",
      "4798           [{\"name\": \"Columbia Pictures\", \"id\": 5}]   \n",
      "4799                                                 []   \n",
      "4800  [{\"name\": \"Front Street Pictures\", \"id\": 3958}...   \n",
      "4801                                                 []   \n",
      "4802  [{\"name\": \"rusty bear entertainment\", \"id\": 87...   \n",
      "\n",
      "                                   production_countries release_date  \\\n",
      "0     [{\"iso_3166_1\": \"US\", \"name\": \"United States o...   10/12/2009   \n",
      "1     [{\"iso_3166_1\": \"US\", \"name\": \"United States o...   19/05/2007   \n",
      "2     [{\"iso_3166_1\": \"GB\", \"name\": \"United Kingdom\"...   26/10/2015   \n",
      "3     [{\"iso_3166_1\": \"US\", \"name\": \"United States o...   16/07/2012   \n",
      "4     [{\"iso_3166_1\": \"US\", \"name\": \"United States o...   07/03/2012   \n",
      "...                                                 ...          ...   \n",
      "4798  [{\"iso_3166_1\": \"MX\", \"name\": \"Mexico\"}, {\"iso...   04/09/1992   \n",
      "4799                                                 []   26/12/2011   \n",
      "4800  [{\"iso_3166_1\": \"US\", \"name\": \"United States o...   13/10/2013   \n",
      "4801  [{\"iso_3166_1\": \"US\", \"name\": \"United States o...   03/05/2012   \n",
      "4802  [{\"iso_3166_1\": \"US\", \"name\": \"United States o...   05/08/2005   \n",
      "\n",
      "         revenue  runtime                                   spoken_languages  \\\n",
      "0     2787965087    162.0  [{\"iso_639_1\": \"en\", \"name\": \"English\"}, {\"iso...   \n",
      "1      961000000    169.0           [{\"iso_639_1\": \"en\", \"name\": \"English\"}]   \n",
      "2      880674609    148.0  [{\"iso_639_1\": \"fr\", \"name\": \"Fran\\u00e7ais\"},...   \n",
      "3     1084939099    165.0           [{\"iso_639_1\": \"en\", \"name\": \"English\"}]   \n",
      "4      284139100    132.0           [{\"iso_639_1\": \"en\", \"name\": \"English\"}]   \n",
      "...          ...      ...                                                ...   \n",
      "4798     2040920     81.0      [{\"iso_639_1\": \"es\", \"name\": \"Espa\\u00f1ol\"}]   \n",
      "4799           0     85.0                                                 []   \n",
      "4800           0    120.0           [{\"iso_639_1\": \"en\", \"name\": \"English\"}]   \n",
      "4801           0     98.0           [{\"iso_639_1\": \"en\", \"name\": \"English\"}]   \n",
      "4802           0     90.0           [{\"iso_639_1\": \"en\", \"name\": \"English\"}]   \n",
      "\n",
      "        status                                            tagline  \\\n",
      "0     Released                        Enter the World of Pandora.   \n",
      "1     Released     At the end of the world, the adventure begins.   \n",
      "2     Released                              A Plan No One Escapes   \n",
      "3     Released                                    The Legend Ends   \n",
      "4     Released               Lost in our world, found in another.   \n",
      "...        ...                                                ...   \n",
      "4798  Released  He didn't come looking for trouble, but troubl...   \n",
      "4799  Released  A newlywed couple's honeymoon is upended by th...   \n",
      "4800  Released                                                NaN   \n",
      "4801  Released                           A New Yorker in Shanghai   \n",
      "4802  Released                                                NaN   \n",
      "\n",
      "                                         title  vote_average  vote_count  \n",
      "0                                       Avatar           7.2       11800  \n",
      "1     Pirates of the Caribbean: At World's End           6.9        4500  \n",
      "2                                      Spectre           6.3        4466  \n",
      "3                        The Dark Knight Rises           7.6        9106  \n",
      "4                                  John Carter           6.1        2124  \n",
      "...                                        ...           ...         ...  \n",
      "4798                               El Mariachi           6.6         238  \n",
      "4799                                 Newlyweds           5.9           5  \n",
      "4800                 Signed, Sealed, Delivered           7.0           6  \n",
      "4801                          Shanghai Calling           5.7           7  \n",
      "4802                         My Date with Drew           6.3          16  \n",
      "\n",
      "[4803 rows x 20 columns]\n"
     ]
    }
   ],
   "source": [
    "print(dataset1)"
   ]
  },
  {
   "cell_type": "code",
   "execution_count": 37,
   "id": "6ecb89d9",
   "metadata": {},
   "outputs": [
    {
     "data": {
      "text/html": [
       "<div>\n",
       "<style scoped>\n",
       "    .dataframe tbody tr th:only-of-type {\n",
       "        vertical-align: middle;\n",
       "    }\n",
       "\n",
       "    .dataframe tbody tr th {\n",
       "        vertical-align: top;\n",
       "    }\n",
       "\n",
       "    .dataframe thead th {\n",
       "        text-align: right;\n",
       "    }\n",
       "</style>\n",
       "<table border=\"1\" class=\"dataframe\">\n",
       "  <thead>\n",
       "    <tr style=\"text-align: right;\">\n",
       "      <th></th>\n",
       "      <th>budget</th>\n",
       "      <th>genres</th>\n",
       "      <th>homepage</th>\n",
       "      <th>id</th>\n",
       "      <th>keywords</th>\n",
       "      <th>original_language</th>\n",
       "      <th>original_title</th>\n",
       "      <th>overview</th>\n",
       "      <th>popularity</th>\n",
       "      <th>production_companies</th>\n",
       "      <th>production_countries</th>\n",
       "      <th>release_date</th>\n",
       "      <th>revenue</th>\n",
       "      <th>runtime</th>\n",
       "      <th>spoken_languages</th>\n",
       "      <th>status</th>\n",
       "      <th>tagline</th>\n",
       "      <th>title</th>\n",
       "      <th>vote_average</th>\n",
       "      <th>vote_count</th>\n",
       "    </tr>\n",
       "  </thead>\n",
       "  <tbody>\n",
       "    <tr>\n",
       "      <th>0</th>\n",
       "      <td>237000000</td>\n",
       "      <td>[{\"id\": 28, \"name\": \"Action\"}, {\"id\": 12, \"nam...</td>\n",
       "      <td>http://www.avatarmovie.com/</td>\n",
       "      <td>19995</td>\n",
       "      <td>[{\"id\": 1463, \"name\": \"culture clash\"}, {\"id\":...</td>\n",
       "      <td>en</td>\n",
       "      <td>Avatar</td>\n",
       "      <td>In the 22nd century, a paraplegic Marine is di...</td>\n",
       "      <td>150.437577</td>\n",
       "      <td>[{\"name\": \"Ingenious Film Partners\", \"id\": 289...</td>\n",
       "      <td>[{\"iso_3166_1\": \"US\", \"name\": \"United States o...</td>\n",
       "      <td>10/12/2009</td>\n",
       "      <td>2787965087</td>\n",
       "      <td>162.0</td>\n",
       "      <td>[{\"iso_639_1\": \"en\", \"name\": \"English\"}, {\"iso...</td>\n",
       "      <td>Released</td>\n",
       "      <td>Enter the World of Pandora.</td>\n",
       "      <td>Avatar</td>\n",
       "      <td>7.2</td>\n",
       "      <td>11800</td>\n",
       "    </tr>\n",
       "    <tr>\n",
       "      <th>1</th>\n",
       "      <td>300000000</td>\n",
       "      <td>[{\"id\": 12, \"name\": \"Adventure\"}, {\"id\": 14, \"...</td>\n",
       "      <td>http://disney.go.com/disneypictures/pirates/</td>\n",
       "      <td>285</td>\n",
       "      <td>[{\"id\": 270, \"name\": \"ocean\"}, {\"id\": 726, \"na...</td>\n",
       "      <td>en</td>\n",
       "      <td>Pirates of the Caribbean: At World's End</td>\n",
       "      <td>Captain Barbossa, long believed to be dead, ha...</td>\n",
       "      <td>139.082615</td>\n",
       "      <td>[{\"name\": \"Walt Disney Pictures\", \"id\": 2}, {\"...</td>\n",
       "      <td>[{\"iso_3166_1\": \"US\", \"name\": \"United States o...</td>\n",
       "      <td>19/05/2007</td>\n",
       "      <td>961000000</td>\n",
       "      <td>169.0</td>\n",
       "      <td>[{\"iso_639_1\": \"en\", \"name\": \"English\"}]</td>\n",
       "      <td>Released</td>\n",
       "      <td>At the end of the world, the adventure begins.</td>\n",
       "      <td>Pirates of the Caribbean: At World's End</td>\n",
       "      <td>6.9</td>\n",
       "      <td>4500</td>\n",
       "    </tr>\n",
       "    <tr>\n",
       "      <th>2</th>\n",
       "      <td>245000000</td>\n",
       "      <td>[{\"id\": 28, \"name\": \"Action\"}, {\"id\": 12, \"nam...</td>\n",
       "      <td>http://www.sonypictures.com/movies/spectre/</td>\n",
       "      <td>206647</td>\n",
       "      <td>[{\"id\": 470, \"name\": \"spy\"}, {\"id\": 818, \"name...</td>\n",
       "      <td>en</td>\n",
       "      <td>Spectre</td>\n",
       "      <td>A cryptic message from Bond’s past sends him o...</td>\n",
       "      <td>107.376788</td>\n",
       "      <td>[{\"name\": \"Columbia Pictures\", \"id\": 5}, {\"nam...</td>\n",
       "      <td>[{\"iso_3166_1\": \"GB\", \"name\": \"United Kingdom\"...</td>\n",
       "      <td>26/10/2015</td>\n",
       "      <td>880674609</td>\n",
       "      <td>148.0</td>\n",
       "      <td>[{\"iso_639_1\": \"fr\", \"name\": \"Fran\\u00e7ais\"},...</td>\n",
       "      <td>Released</td>\n",
       "      <td>A Plan No One Escapes</td>\n",
       "      <td>Spectre</td>\n",
       "      <td>6.3</td>\n",
       "      <td>4466</td>\n",
       "    </tr>\n",
       "    <tr>\n",
       "      <th>3</th>\n",
       "      <td>250000000</td>\n",
       "      <td>[{\"id\": 28, \"name\": \"Action\"}, {\"id\": 80, \"nam...</td>\n",
       "      <td>http://www.thedarkknightrises.com/</td>\n",
       "      <td>49026</td>\n",
       "      <td>[{\"id\": 849, \"name\": \"dc comics\"}, {\"id\": 853,...</td>\n",
       "      <td>en</td>\n",
       "      <td>The Dark Knight Rises</td>\n",
       "      <td>Following the death of District Attorney Harve...</td>\n",
       "      <td>112.312950</td>\n",
       "      <td>[{\"name\": \"Legendary Pictures\", \"id\": 923}, {\"...</td>\n",
       "      <td>[{\"iso_3166_1\": \"US\", \"name\": \"United States o...</td>\n",
       "      <td>16/07/2012</td>\n",
       "      <td>1084939099</td>\n",
       "      <td>165.0</td>\n",
       "      <td>[{\"iso_639_1\": \"en\", \"name\": \"English\"}]</td>\n",
       "      <td>Released</td>\n",
       "      <td>The Legend Ends</td>\n",
       "      <td>The Dark Knight Rises</td>\n",
       "      <td>7.6</td>\n",
       "      <td>9106</td>\n",
       "    </tr>\n",
       "    <tr>\n",
       "      <th>4</th>\n",
       "      <td>260000000</td>\n",
       "      <td>[{\"id\": 28, \"name\": \"Action\"}, {\"id\": 12, \"nam...</td>\n",
       "      <td>http://movies.disney.com/john-carter</td>\n",
       "      <td>49529</td>\n",
       "      <td>[{\"id\": 818, \"name\": \"based on novel\"}, {\"id\":...</td>\n",
       "      <td>en</td>\n",
       "      <td>John Carter</td>\n",
       "      <td>John Carter is a war-weary, former military ca...</td>\n",
       "      <td>43.926995</td>\n",
       "      <td>[{\"name\": \"Walt Disney Pictures\", \"id\": 2}]</td>\n",
       "      <td>[{\"iso_3166_1\": \"US\", \"name\": \"United States o...</td>\n",
       "      <td>07/03/2012</td>\n",
       "      <td>284139100</td>\n",
       "      <td>132.0</td>\n",
       "      <td>[{\"iso_639_1\": \"en\", \"name\": \"English\"}]</td>\n",
       "      <td>Released</td>\n",
       "      <td>Lost in our world, found in another.</td>\n",
       "      <td>John Carter</td>\n",
       "      <td>6.1</td>\n",
       "      <td>2124</td>\n",
       "    </tr>\n",
       "  </tbody>\n",
       "</table>\n",
       "</div>"
      ],
      "text/plain": [
       "      budget                                             genres  \\\n",
       "0  237000000  [{\"id\": 28, \"name\": \"Action\"}, {\"id\": 12, \"nam...   \n",
       "1  300000000  [{\"id\": 12, \"name\": \"Adventure\"}, {\"id\": 14, \"...   \n",
       "2  245000000  [{\"id\": 28, \"name\": \"Action\"}, {\"id\": 12, \"nam...   \n",
       "3  250000000  [{\"id\": 28, \"name\": \"Action\"}, {\"id\": 80, \"nam...   \n",
       "4  260000000  [{\"id\": 28, \"name\": \"Action\"}, {\"id\": 12, \"nam...   \n",
       "\n",
       "                                       homepage      id  \\\n",
       "0                   http://www.avatarmovie.com/   19995   \n",
       "1  http://disney.go.com/disneypictures/pirates/     285   \n",
       "2   http://www.sonypictures.com/movies/spectre/  206647   \n",
       "3            http://www.thedarkknightrises.com/   49026   \n",
       "4          http://movies.disney.com/john-carter   49529   \n",
       "\n",
       "                                            keywords original_language  \\\n",
       "0  [{\"id\": 1463, \"name\": \"culture clash\"}, {\"id\":...                en   \n",
       "1  [{\"id\": 270, \"name\": \"ocean\"}, {\"id\": 726, \"na...                en   \n",
       "2  [{\"id\": 470, \"name\": \"spy\"}, {\"id\": 818, \"name...                en   \n",
       "3  [{\"id\": 849, \"name\": \"dc comics\"}, {\"id\": 853,...                en   \n",
       "4  [{\"id\": 818, \"name\": \"based on novel\"}, {\"id\":...                en   \n",
       "\n",
       "                             original_title  \\\n",
       "0                                    Avatar   \n",
       "1  Pirates of the Caribbean: At World's End   \n",
       "2                                   Spectre   \n",
       "3                     The Dark Knight Rises   \n",
       "4                               John Carter   \n",
       "\n",
       "                                            overview  popularity  \\\n",
       "0  In the 22nd century, a paraplegic Marine is di...  150.437577   \n",
       "1  Captain Barbossa, long believed to be dead, ha...  139.082615   \n",
       "2  A cryptic message from Bond’s past sends him o...  107.376788   \n",
       "3  Following the death of District Attorney Harve...  112.312950   \n",
       "4  John Carter is a war-weary, former military ca...   43.926995   \n",
       "\n",
       "                                production_companies  \\\n",
       "0  [{\"name\": \"Ingenious Film Partners\", \"id\": 289...   \n",
       "1  [{\"name\": \"Walt Disney Pictures\", \"id\": 2}, {\"...   \n",
       "2  [{\"name\": \"Columbia Pictures\", \"id\": 5}, {\"nam...   \n",
       "3  [{\"name\": \"Legendary Pictures\", \"id\": 923}, {\"...   \n",
       "4        [{\"name\": \"Walt Disney Pictures\", \"id\": 2}]   \n",
       "\n",
       "                                production_countries release_date     revenue  \\\n",
       "0  [{\"iso_3166_1\": \"US\", \"name\": \"United States o...   10/12/2009  2787965087   \n",
       "1  [{\"iso_3166_1\": \"US\", \"name\": \"United States o...   19/05/2007   961000000   \n",
       "2  [{\"iso_3166_1\": \"GB\", \"name\": \"United Kingdom\"...   26/10/2015   880674609   \n",
       "3  [{\"iso_3166_1\": \"US\", \"name\": \"United States o...   16/07/2012  1084939099   \n",
       "4  [{\"iso_3166_1\": \"US\", \"name\": \"United States o...   07/03/2012   284139100   \n",
       "\n",
       "   runtime                                   spoken_languages    status  \\\n",
       "0    162.0  [{\"iso_639_1\": \"en\", \"name\": \"English\"}, {\"iso...  Released   \n",
       "1    169.0           [{\"iso_639_1\": \"en\", \"name\": \"English\"}]  Released   \n",
       "2    148.0  [{\"iso_639_1\": \"fr\", \"name\": \"Fran\\u00e7ais\"},...  Released   \n",
       "3    165.0           [{\"iso_639_1\": \"en\", \"name\": \"English\"}]  Released   \n",
       "4    132.0           [{\"iso_639_1\": \"en\", \"name\": \"English\"}]  Released   \n",
       "\n",
       "                                          tagline  \\\n",
       "0                     Enter the World of Pandora.   \n",
       "1  At the end of the world, the adventure begins.   \n",
       "2                           A Plan No One Escapes   \n",
       "3                                 The Legend Ends   \n",
       "4            Lost in our world, found in another.   \n",
       "\n",
       "                                      title  vote_average  vote_count  \n",
       "0                                    Avatar           7.2       11800  \n",
       "1  Pirates of the Caribbean: At World's End           6.9        4500  \n",
       "2                                   Spectre           6.3        4466  \n",
       "3                     The Dark Knight Rises           7.6        9106  \n",
       "4                               John Carter           6.1        2124  "
      ]
     },
     "execution_count": 37,
     "metadata": {},
     "output_type": "execute_result"
    }
   ],
   "source": [
    "dataset1.head()"
   ]
  },
  {
   "cell_type": "code",
   "execution_count": 38,
   "id": "a99f50d2",
   "metadata": {},
   "outputs": [
    {
     "name": "stdout",
     "output_type": "stream",
     "text": [
      "<class 'pandas.core.frame.DataFrame'>\n",
      "RangeIndex: 4803 entries, 0 to 4802\n",
      "Data columns (total 20 columns):\n",
      " #   Column                Non-Null Count  Dtype  \n",
      "---  ------                --------------  -----  \n",
      " 0   budget                4803 non-null   int64  \n",
      " 1   genres                4803 non-null   object \n",
      " 2   homepage              1712 non-null   object \n",
      " 3   id                    4803 non-null   int64  \n",
      " 4   keywords              4803 non-null   object \n",
      " 5   original_language     4803 non-null   object \n",
      " 6   original_title        4803 non-null   object \n",
      " 7   overview              4800 non-null   object \n",
      " 8   popularity            4803 non-null   float64\n",
      " 9   production_companies  4803 non-null   object \n",
      " 10  production_countries  4803 non-null   object \n",
      " 11  release_date          4802 non-null   object \n",
      " 12  revenue               4803 non-null   int64  \n",
      " 13  runtime               4801 non-null   float64\n",
      " 14  spoken_languages      4803 non-null   object \n",
      " 15  status                4803 non-null   object \n",
      " 16  tagline               3959 non-null   object \n",
      " 17  title                 4803 non-null   object \n",
      " 18  vote_average          4803 non-null   float64\n",
      " 19  vote_count            4803 non-null   int64  \n",
      "dtypes: float64(3), int64(4), object(13)\n",
      "memory usage: 750.6+ KB\n"
     ]
    }
   ],
   "source": [
    "# Check the dataset information\n",
    "dataset1.info()"
   ]
  },
  {
   "cell_type": "code",
   "execution_count": 39,
   "id": "2c8b530e",
   "metadata": {},
   "outputs": [
    {
     "data": {
      "text/html": [
       "<div>\n",
       "<style scoped>\n",
       "    .dataframe tbody tr th:only-of-type {\n",
       "        vertical-align: middle;\n",
       "    }\n",
       "\n",
       "    .dataframe tbody tr th {\n",
       "        vertical-align: top;\n",
       "    }\n",
       "\n",
       "    .dataframe thead th {\n",
       "        text-align: right;\n",
       "    }\n",
       "</style>\n",
       "<table border=\"1\" class=\"dataframe\">\n",
       "  <thead>\n",
       "    <tr style=\"text-align: right;\">\n",
       "      <th></th>\n",
       "      <th>budget</th>\n",
       "      <th>id</th>\n",
       "      <th>popularity</th>\n",
       "      <th>revenue</th>\n",
       "      <th>runtime</th>\n",
       "      <th>vote_average</th>\n",
       "      <th>vote_count</th>\n",
       "    </tr>\n",
       "  </thead>\n",
       "  <tbody>\n",
       "    <tr>\n",
       "      <th>count</th>\n",
       "      <td>4.803000e+03</td>\n",
       "      <td>4803.000000</td>\n",
       "      <td>4803.000000</td>\n",
       "      <td>4.803000e+03</td>\n",
       "      <td>4801.000000</td>\n",
       "      <td>4803.000000</td>\n",
       "      <td>4803.000000</td>\n",
       "    </tr>\n",
       "    <tr>\n",
       "      <th>mean</th>\n",
       "      <td>2.904504e+07</td>\n",
       "      <td>57165.484281</td>\n",
       "      <td>21.492301</td>\n",
       "      <td>8.226064e+07</td>\n",
       "      <td>106.875859</td>\n",
       "      <td>6.092172</td>\n",
       "      <td>690.217989</td>\n",
       "    </tr>\n",
       "    <tr>\n",
       "      <th>std</th>\n",
       "      <td>4.072239e+07</td>\n",
       "      <td>88694.614033</td>\n",
       "      <td>31.816650</td>\n",
       "      <td>1.628571e+08</td>\n",
       "      <td>22.611935</td>\n",
       "      <td>1.194612</td>\n",
       "      <td>1234.585891</td>\n",
       "    </tr>\n",
       "    <tr>\n",
       "      <th>min</th>\n",
       "      <td>0.000000e+00</td>\n",
       "      <td>5.000000</td>\n",
       "      <td>0.000000</td>\n",
       "      <td>0.000000e+00</td>\n",
       "      <td>0.000000</td>\n",
       "      <td>0.000000</td>\n",
       "      <td>0.000000</td>\n",
       "    </tr>\n",
       "    <tr>\n",
       "      <th>25%</th>\n",
       "      <td>7.900000e+05</td>\n",
       "      <td>9014.500000</td>\n",
       "      <td>4.668070</td>\n",
       "      <td>0.000000e+00</td>\n",
       "      <td>94.000000</td>\n",
       "      <td>5.600000</td>\n",
       "      <td>54.000000</td>\n",
       "    </tr>\n",
       "    <tr>\n",
       "      <th>50%</th>\n",
       "      <td>1.500000e+07</td>\n",
       "      <td>14629.000000</td>\n",
       "      <td>12.921594</td>\n",
       "      <td>1.917000e+07</td>\n",
       "      <td>103.000000</td>\n",
       "      <td>6.200000</td>\n",
       "      <td>235.000000</td>\n",
       "    </tr>\n",
       "    <tr>\n",
       "      <th>75%</th>\n",
       "      <td>4.000000e+07</td>\n",
       "      <td>58610.500000</td>\n",
       "      <td>28.313505</td>\n",
       "      <td>9.291719e+07</td>\n",
       "      <td>118.000000</td>\n",
       "      <td>6.800000</td>\n",
       "      <td>737.000000</td>\n",
       "    </tr>\n",
       "    <tr>\n",
       "      <th>max</th>\n",
       "      <td>3.800000e+08</td>\n",
       "      <td>459488.000000</td>\n",
       "      <td>875.581305</td>\n",
       "      <td>2.787965e+09</td>\n",
       "      <td>338.000000</td>\n",
       "      <td>10.000000</td>\n",
       "      <td>13752.000000</td>\n",
       "    </tr>\n",
       "  </tbody>\n",
       "</table>\n",
       "</div>"
      ],
      "text/plain": [
       "             budget             id   popularity       revenue      runtime  \\\n",
       "count  4.803000e+03    4803.000000  4803.000000  4.803000e+03  4801.000000   \n",
       "mean   2.904504e+07   57165.484281    21.492301  8.226064e+07   106.875859   \n",
       "std    4.072239e+07   88694.614033    31.816650  1.628571e+08    22.611935   \n",
       "min    0.000000e+00       5.000000     0.000000  0.000000e+00     0.000000   \n",
       "25%    7.900000e+05    9014.500000     4.668070  0.000000e+00    94.000000   \n",
       "50%    1.500000e+07   14629.000000    12.921594  1.917000e+07   103.000000   \n",
       "75%    4.000000e+07   58610.500000    28.313505  9.291719e+07   118.000000   \n",
       "max    3.800000e+08  459488.000000   875.581305  2.787965e+09   338.000000   \n",
       "\n",
       "       vote_average    vote_count  \n",
       "count   4803.000000   4803.000000  \n",
       "mean       6.092172    690.217989  \n",
       "std        1.194612   1234.585891  \n",
       "min        0.000000      0.000000  \n",
       "25%        5.600000     54.000000  \n",
       "50%        6.200000    235.000000  \n",
       "75%        6.800000    737.000000  \n",
       "max       10.000000  13752.000000  "
      ]
     },
     "execution_count": 39,
     "metadata": {},
     "output_type": "execute_result"
    }
   ],
   "source": [
    "dataset1.describe()"
   ]
  },
  {
   "cell_type": "markdown",
   "id": "73e2c96a",
   "metadata": {},
   "source": [
    "#### Section 2 - Regression Models"
   ]
  },
  {
   "cell_type": "markdown",
   "id": "1194f6bd",
   "metadata": {},
   "source": [
    "#### Linear Regression - The first type of regression that will be looked at is a simple linear and what is being examined is whether or not having a larger budget means that a movie will make more revenue"
   ]
  },
  {
   "cell_type": "code",
   "execution_count": 40,
   "id": "a6d79b23",
   "metadata": {},
   "outputs": [],
   "source": [
    "# Create a copy of the dataset\n",
    "dataset_regression = dataset1.copy()"
   ]
  },
  {
   "cell_type": "code",
   "execution_count": 41,
   "id": "040a9006",
   "metadata": {},
   "outputs": [],
   "source": [
    "# Select columns that will be X and Y\n",
    "X = dataset_regression.iloc[:, [12]].values\n",
    "y = dataset_regression.iloc[:, :1].values"
   ]
  },
  {
   "cell_type": "code",
   "execution_count": 42,
   "id": "08d73640",
   "metadata": {},
   "outputs": [
    {
     "name": "stdout",
     "output_type": "stream",
     "text": [
      "[[2787965087]\n",
      " [ 961000000]\n",
      " [ 880674609]\n",
      " ...\n",
      " [         0]\n",
      " [         0]\n",
      " [         0]]\n"
     ]
    }
   ],
   "source": [
    "print(X)"
   ]
  },
  {
   "cell_type": "code",
   "execution_count": 43,
   "id": "97801128",
   "metadata": {},
   "outputs": [
    {
     "name": "stdout",
     "output_type": "stream",
     "text": [
      "[[237000000]\n",
      " [300000000]\n",
      " [245000000]\n",
      " ...\n",
      " [        0]\n",
      " [        0]\n",
      " [        0]]\n"
     ]
    }
   ],
   "source": [
    "print(y)"
   ]
  },
  {
   "cell_type": "code",
   "execution_count": 44,
   "id": "01295455",
   "metadata": {},
   "outputs": [],
   "source": [
    "# Splitting the dataset into the Training set and Test set\n",
    "from sklearn.model_selection import train_test_split\n",
    "X_train, X_test, y_train, y_test = train_test_split(X, y, test_size = 0.20, random_state = 0)"
   ]
  },
  {
   "cell_type": "code",
   "execution_count": 45,
   "id": "68d8f76c",
   "metadata": {},
   "outputs": [
    {
     "data": {
      "text/plain": [
       "LinearRegression()"
      ]
     },
     "execution_count": 45,
     "metadata": {},
     "output_type": "execute_result"
    }
   ],
   "source": [
    "# Training the Simple Linear Regression model on the Training set\n",
    "from sklearn.linear_model import LinearRegression\n",
    "regressor = LinearRegression()\n",
    "regressor.fit(X_train, y_train)"
   ]
  },
  {
   "cell_type": "code",
   "execution_count": 46,
   "id": "71ca0609",
   "metadata": {},
   "outputs": [],
   "source": [
    "# Predicting the Test set results\n",
    "y_pred = regressor.predict(X_test)"
   ]
  },
  {
   "cell_type": "code",
   "execution_count": 47,
   "id": "20f4857e",
   "metadata": {},
   "outputs": [
    {
     "data": {
      "image/png": "[encoded data removed]",
      "text/plain": [
       "<Figure size 432x288 with 1 Axes>"
      ]
     },
     "metadata": {
      "needs_background": "light"
     },
     "output_type": "display_data"
    }
   ],
   "source": [
    "# Visualising the Training set results\n",
    "plt.scatter(X_train, y_train, color = 'red')\n",
    "plt.plot(X_train, regressor.predict(X_train), color = 'blue')\n",
    "plt.title('Movie Revenue vs Budget (Training set)')\n",
    "plt.xlabel('Movie Revenue')\n",
    "plt.ylabel('Budget')\n",
    "plt.show()"
   ]
  },
  {
   "cell_type": "code",
   "execution_count": 48,
   "id": "6b968f53",
   "metadata": {},
   "outputs": [
    {
     "data": {
      "image/png": "[encoded data removed]",
      "text/plain": [
       "<Figure size 432x288 with 1 Axes>"
      ]
     },
     "metadata": {
      "needs_background": "light"
     },
     "output_type": "display_data"
    }
   ],
   "source": [
    "# Visualising the Test set results\n",
    "plt.scatter(X_test, y_test, color = 'red')\n",
    "plt.plot(X_train, regressor.predict(X_train), color = 'blue')\n",
    "plt.title('Movie Revenue vs Budget (Test set)')\n",
    "plt.xlabel('Movie Revenue')\n",
    "plt.ylabel('Budget')\n",
    "plt.show()"
   ]
  },
  {
   "cell_type": "code",
   "execution_count": 49,
   "id": "aebba5db",
   "metadata": {},
   "outputs": [
    {
     "name": "stdout",
     "output_type": "stream",
     "text": [
      "m= \n",
      "[[0.1828517]]\n"
     ]
    }
   ],
   "source": [
    "#Then build the linear regression function\n",
    "print('m= ')\n",
    "print(regressor.coef_)"
   ]
  },
  {
   "cell_type": "code",
   "execution_count": 50,
   "id": "2e4ed65c",
   "metadata": {},
   "outputs": [
    {
     "name": "stdout",
     "output_type": "stream",
     "text": [
      "b = \n",
      "[13984967.02561394]\n"
     ]
    }
   ],
   "source": [
    "# Intercepting point (Where the y axis is intercepted)\n",
    "print('b = ')\n",
    "print(regressor.intercept_)"
   ]
  },
  {
   "cell_type": "code",
   "execution_count": 51,
   "id": "bb6395ad",
   "metadata": {},
   "outputs": [
    {
     "name": "stdout",
     "output_type": "stream",
     "text": [
      "The linear regression function is: \n",
      "y =  [[0.1828517]] x +  [13984967.02561394]\n"
     ]
    }
   ],
   "source": [
    "print('The linear regression function is: ')\n",
    "print('y = ', regressor.coef_, 'x + ', regressor.intercept_)"
   ]
  },
  {
   "cell_type": "code",
   "execution_count": 52,
   "id": "5e7858e4",
   "metadata": {},
   "outputs": [
    {
     "name": "stdout",
     "output_type": "stream",
     "text": [
      "\n",
      "Precision of the model:\n",
      "0.532073715255598\n"
     ]
    }
   ],
   "source": [
    "#Calculate the precision of the algorithm or r^2\n",
    "print()\n",
    "print('Precision of the model:')\n",
    "print(regressor.score(X_train, y_train))"
   ]
  },
  {
   "cell_type": "markdown",
   "id": "a5406562",
   "metadata": {},
   "source": [
    "#### Polynomial Regression - This is the second of 2 types of regression being used to test the movie dataset"
   ]
  },
  {
   "cell_type": "code",
   "execution_count": 107,
   "id": "aeebe344",
   "metadata": {},
   "outputs": [],
   "source": [
    "# Create a copy of the dataset\n",
    "dataset_multiple = dataset1.copy()"
   ]
  },
  {
   "cell_type": "code",
   "execution_count": 108,
   "id": "087808d1",
   "metadata": {},
   "outputs": [
    {
     "name": "stdout",
     "output_type": "stream",
     "text": [
      "         revenue  runtime  vote_average  vote_count\n",
      "0     2787965087    162.0           7.2       11800\n",
      "1      961000000    169.0           6.9        4500\n",
      "2      880674609    148.0           6.3        4466\n",
      "3     1084939099    165.0           7.6        9106\n",
      "4      284139100    132.0           6.1        2124\n",
      "...          ...      ...           ...         ...\n",
      "4798     2040920     81.0           6.6         238\n",
      "4799           0     85.0           5.9           5\n",
      "4800           0    120.0           7.0           6\n",
      "4801           0     98.0           5.7           7\n",
      "4802           0     90.0           6.3          16\n",
      "\n",
      "[4803 rows x 4 columns]\n",
      "(4803, 4)\n",
      "[[237000000]\n",
      " [300000000]\n",
      " [245000000]\n",
      " ...\n",
      " [        0]\n",
      " [        0]\n",
      " [        0]]\n",
      "(4803, 1)\n"
     ]
    }
   ],
   "source": [
    "X = dataset_multiple.iloc[: ,[12,13,18,19]]\n",
    "print(X)\n",
    "print(X.shape)\n",
    "y = dataset_multiple.iloc[:, :1].values\n",
    "print(y)\n",
    "print(y.shape)"
   ]
  },
  {
   "cell_type": "code",
   "execution_count": 109,
   "id": "c55d8587",
   "metadata": {},
   "outputs": [
    {
     "data": {
      "text/plain": [
       "True"
      ]
     },
     "execution_count": 109,
     "metadata": {},
     "output_type": "execute_result"
    }
   ],
   "source": [
    "# Check for any missing values\n",
    "dataset_multiple.isnull().values.any()"
   ]
  },
  {
   "cell_type": "code",
   "execution_count": 110,
   "id": "1e2341d6",
   "metadata": {},
   "outputs": [
    {
     "data": {
      "text/plain": [
       "budget                     0\n",
       "genres                     0\n",
       "homepage                3091\n",
       "id                         0\n",
       "keywords                   0\n",
       "original_language          0\n",
       "original_title             0\n",
       "overview                   3\n",
       "popularity                 0\n",
       "production_companies       0\n",
       "production_countries       0\n",
       "release_date               1\n",
       "revenue                    0\n",
       "runtime                    2\n",
       "spoken_languages           0\n",
       "status                     0\n",
       "tagline                  844\n",
       "title                      0\n",
       "vote_average               0\n",
       "vote_count                 0\n",
       "dtype: int64"
      ]
     },
     "execution_count": 110,
     "metadata": {},
     "output_type": "execute_result"
    }
   ],
   "source": [
    "#Check how many missing values per column\n",
    "dataset_multiple.isnull().sum()"
   ]
  },
  {
   "cell_type": "code",
   "execution_count": 100,
   "id": "c1852715",
   "metadata": {},
   "outputs": [],
   "source": [
    "dataset_multiple = dataset_multiple.dropna()"
   ]
  },
  {
   "cell_type": "code",
   "execution_count": 101,
   "id": "1c2fb085",
   "metadata": {},
   "outputs": [],
   "source": [
    "# Splitting the dataset into the Training set and Test set\n",
    "from sklearn.model_selection import train_test_split\n",
    "X_train, X_test, y_train, y_test = train_test_split(X, y, test_size = 0.2, random_state = 0)"
   ]
  },
  {
   "cell_type": "code",
   "execution_count": 102,
   "id": "c778387f",
   "metadata": {},
   "outputs": [
    {
     "name": "stdout",
     "output_type": "stream",
     "text": [
      "[[ 0.99  1.61  0.33]\n",
      " [-0.25  0.21 -0.79]\n",
      " [ 1.72  0.79 -0.41]\n",
      " ...\n",
      " [-0.14  1.03 -0.06]\n",
      " [ 0.27  0.91  0.56]\n",
      " [ 1.1   1.03 -0.42]]\n",
      "[[ 9.42e-01  1.03e+00  2.26e-02]\n",
      " [-5.59e-01 -1.31e+00 -7.65e-01]\n",
      " [-1.08e+00  1.49e+00 -5.26e-01]\n",
      " [-1.23e+00 -2.45e-02  2.07e+00]\n",
      " [-3.00e-01 -2.45e-02  2.85e-01]\n",
      " [ 4.76e-01  1.85e+00  7.68e-01]\n",
      " [ 8.91e-01  5.60e-01  3.55e+00]\n",
      " [-9.73e-01  2.09e-01  2.41e-01]\n",
      " [ 7.87e-01  7.94e-01  5.80e-02]\n",
      " [ 1.05e-02 -1.41e-01 -5.20e-01]\n",
      " [-1.39e+00  1.49e+00 -1.82e-01]\n",
      " [ 8.39e-01 -1.41e-01 -4.23e-01]\n",
      " [-1.97e-01 -2.58e-01 -5.19e-01]\n",
      " [ 1.05e-02 -9.60e-01 -3.78e-01]\n",
      " [-7.66e-01 -6.09e-01 -5.90e-01]\n",
      " [-9.73e-01 -3.75e-01 -1.88e-01]\n",
      " [ 1.14e-01 -3.75e-01 -8.59e-01]\n",
      " [-4.13e-02 -6.09e-01 -4.21e-01]\n",
      " [ 1.56e+00  1.26e+00  5.05e+00]\n",
      " [ 1.82e+00  2.08e+00  6.05e+00]\n",
      " [ 8.91e-01 -7.26e-01  8.77e-01]\n",
      " [ 9.94e-01  1.61e+00  1.34e+00]\n",
      " [-6.63e-01 -7.26e-01 -5.18e-01]\n",
      " [-1.13e+00 -2.45e-02 -4.66e-01]\n",
      " [-3.52e-01 -1.41e-01 -5.69e-01]\n",
      " [-6.11e-01 -9.60e-01 -6.84e-01]\n",
      " [ 4.76e-01 -7.26e-01  3.54e-01]\n",
      " [-7.66e-01 -2.45e-02 -2.29e-02]\n",
      " [ 8.91e-01 -2.45e-02 -7.62e-01]\n",
      " [ 2.91e+00  6.77e-01  1.37e+00]\n",
      " [-1.03e+00 -8.43e-01 -6.53e-01]\n",
      " [-7.66e-01 -7.26e-01 -7.27e-01]\n",
      " [ 3.89e+00  1.38e+00 -4.91e-01]\n",
      " [-9.31e-02 -7.26e-01 -6.33e-01]\n",
      " [-7.14e-01 -6.09e-01 -8.82e-02]\n",
      " [-1.13e+00 -9.60e-01 -6.90e-01]\n",
      " [-5.59e-01 -8.43e-01 -8.99e-01]\n",
      " [ 5.28e-01 -7.26e-01 -2.75e-01]\n",
      " [-6.63e-01  9.23e-02 -6.73e-01]\n",
      " [-4.13e-02  1.03e+00  1.67e-01]\n",
      " [-1.18e+00  2.09e-01 -2.44e-02]\n",
      " [-3.00e-01  7.94e-01 -4.13e-01]\n",
      " [-1.97e-01  2.09e-01  2.23e-01]\n",
      " [-1.44e+00  5.60e-01 -5.83e-01]\n",
      " [-1.45e-01 -8.43e-01 -4.41e-01]\n",
      " [ 1.67e+00  2.20e+00  6.74e-01]\n",
      " [-6.11e-01  2.09e-01 -4.48e-01]\n",
      " [ 1.36e+00 -8.43e-01  2.81e-01]\n",
      " [ 1.10e+00 -6.09e-01 -6.67e-01]\n",
      " [-7.14e-01 -1.08e+00 -8.04e-01]\n",
      " [ 1.66e-01 -9.60e-01 -1.76e-01]\n",
      " [-1.23e+00  1.96e+00  1.81e+00]\n",
      " [ 1.67e+00  1.14e+00 -5.78e-01]\n",
      " [ 6.23e-02 -7.26e-01 -8.42e-01]\n",
      " [ 7.87e-01  9.10e-01 -5.99e-01]\n",
      " [-1.08e+00 -4.92e-01 -4.70e-01]\n",
      " [-5.07e-01 -3.75e-01  5.72e-01]\n",
      " [-1.28e+00 -4.92e-01  1.86e-03]\n",
      " [-7.14e-01 -1.89e+00 -7.59e-01]\n",
      " [ 1.72e+00 -7.26e-01 -7.11e-01]\n",
      " [-1.97e-01 -4.92e-01 -5.99e-01]\n",
      " [-3.52e-01 -7.26e-01 -6.76e-01]\n",
      " [-3.00e-01  4.43e-01  1.34e-01]\n",
      " [-5.07e-01 -2.58e-01  5.57e-01]\n",
      " [ 7.35e-01  4.43e-01 -6.63e-01]\n",
      " [ 2.29e+00  1.26e+00 -1.48e-01]\n",
      " [-8.18e-01  4.43e-01 -7.40e-01]\n",
      " [-6.11e-01 -3.75e-01 -3.99e-01]\n",
      " [-1.13e+00  5.60e-01  3.90e-01]\n",
      " [-7.14e-01  2.09e-01 -5.69e-01]\n",
      " [ 1.77e+00  1.61e+00 -2.23e-01]\n",
      " [-1.34e+00 -4.92e-01  8.43e-01]\n",
      " [-1.45e-01  3.26e-01 -7.10e-01]\n",
      " [ 1.46e+00  4.43e-01 -7.99e-01]\n",
      " [-1.28e+00 -1.78e+00 -8.24e-01]\n",
      " [ 1.10e+00  7.94e-01 -3.39e-01]\n",
      " [ 1.67e+00  1.85e+00  2.06e+00]\n",
      " [-1.13e+00 -1.66e+00 -8.41e-01]\n",
      " [ 1.93e+00  9.10e-01 -8.04e-01]\n",
      " [-1.08e+00 -2.01e+00 -8.33e-01]\n",
      " [-4.56e-01  9.23e-02 -6.48e-01]\n",
      " [ 6.32e-01 -7.26e-01 -8.60e-01]\n",
      " [ 3.95e+00  2.20e+00  1.14e+00]\n",
      " [ 5.28e-01  1.73e+00  7.67e-01]\n",
      " [-8.70e-01 -1.08e+00 -7.04e-01]\n",
      " [-9.31e-02  9.23e-02 -3.15e-01]\n",
      " [ 6.32e-01 -1.19e+00 -5.94e-01]\n",
      " [-9.22e-01 -8.43e-01 -5.24e-01]\n",
      " [ 1.36e+00  3.26e-01 -6.92e-01]\n",
      " [ 5.80e-01  9.10e-01 -7.39e-01]\n",
      " [ 5.28e-01  1.38e+00  1.23e-01]\n",
      " [ 2.69e-01 -3.75e-01 -7.22e-01]\n",
      " [-1.45e-01 -3.06e+00 -7.10e-01]\n",
      " [-1.45e-01 -3.75e-01 -3.77e-01]\n",
      " [-1.28e+00 -1.31e+00 -8.02e-01]\n",
      " [ 1.62e+00  7.94e-01 -4.34e-01]\n",
      " [-1.59e+00 -1.08e+00 -4.88e-01]\n",
      " [-5.59e-01 -9.60e-01 -6.30e-01]\n",
      " [-9.22e-01 -8.43e-01 -9.88e-02]\n",
      " [-4.13e-02 -4.92e-01 -7.58e-01]\n",
      " [-8.18e-01 -8.43e-01 -6.41e-01]\n",
      " [-6.11e-01 -1.08e+00 -7.97e-01]\n",
      " [ 7.35e-01 -6.09e-01  6.69e-01]\n",
      " [ 1.15e+00  3.26e-01 -8.09e-01]\n",
      " [-8.18e-01 -4.92e-01 -3.91e-01]\n",
      " [-1.13e+00 -8.43e-01 -1.69e-01]\n",
      " [ 5.80e-01 -2.58e-01 -5.21e-01]\n",
      " [ 6.23e-02  9.10e-01 -5.05e-01]\n",
      " [ 1.62e+00 -1.31e+00 -8.31e-01]\n",
      " [-1.28e+00  2.09e-01 -6.03e-01]\n",
      " [-4.04e-01 -4.92e-01  8.89e-02]\n",
      " [-5.59e-01 -9.60e-01 -7.69e-01]\n",
      " [ 8.91e-01 -8.43e-01  3.24e-01]\n",
      " [-1.28e+00 -9.60e-01 -7.23e-01]\n",
      " [-4.56e-01 -6.09e-01 -4.37e-01]\n",
      " [ 1.14e-01  6.77e-01 -2.29e-01]\n",
      " [-1.13e+00 -1.19e+00 -7.12e-01]\n",
      " [-9.22e-01 -9.60e-01 -7.41e-01]\n",
      " [-1.08e+00 -2.25e+00 -7.72e-01]\n",
      " [ 7.35e-01  3.26e-01 -6.18e-01]\n",
      " [-8.70e-01  7.94e-01 -3.45e-01]\n",
      " [ 2.69e-01  5.60e-01 -8.90e-01]\n",
      " [-1.18e+00 -4.92e-01 -5.91e-01]\n",
      " [ 6.84e-01  6.77e-01 -6.66e-01]\n",
      " [-8.70e-01 -1.19e+00 -3.26e-01]\n",
      " [ 1.10e+00  7.94e-01 -8.97e-01]\n",
      " [-5.59e-01 -2.45e-02 -2.58e-01]\n",
      " [-1.70e+00 -1.31e+00 -7.97e-01]\n",
      " [-4.13e-02 -1.41e-01 -5.57e-01]\n",
      " [ 3.21e-01 -1.41e-01  1.21e-01]\n",
      " [-8.18e-01 -8.43e-01 -7.19e-01]\n",
      " [-1.97e-01  7.94e-01  6.54e-01]\n",
      " [-4.04e-01  3.26e-01 -3.99e-01]\n",
      " [-2.58e+00  5.60e-01 -7.78e-01]\n",
      " [ 9.42e-01 -1.41e-01 -6.42e-01]\n",
      " [ 6.23e-02 -6.09e-01 -6.27e-01]\n",
      " [-1.45e-01 -7.26e-01 -4.63e-01]\n",
      " [ 2.08e+00  1.26e+00  1.77e+00]\n",
      " [-7.14e-01 -1.54e+00 -7.40e-01]\n",
      " [-2.48e-01  6.77e-01 -9.73e-02]\n",
      " [ 3.73e-01  1.03e+00  3.86e+00]\n",
      " [-3.00e-01 -1.19e+00 -6.50e-01]\n",
      " [-9.73e-01 -2.58e-01 -2.55e-01]\n",
      " [-2.48e-01  1.03e+00  5.21e-01]\n",
      " [-6.63e-01 -6.09e-01 -3.24e-01]\n",
      " [-3.52e-01 -3.75e-01 -6.09e-01]\n",
      " [ 1.14e-01 -2.58e-01 -2.14e-01]\n",
      " [ 1.05e-02 -1.19e+00 -6.11e-01]\n",
      " [ 2.03e+00  2.20e+00  5.16e+00]\n",
      " [-3.52e-01 -6.09e-01  1.20e-01]\n",
      " [-6.11e-01  9.23e-02  6.15e-01]\n",
      " [ 2.70e+00 -6.09e-01  6.57e-01]\n",
      " [-1.13e+00 -1.66e+00 -4.28e-01]\n",
      " [ 3.73e-01 -1.41e-01 -8.04e-01]\n",
      " [-6.63e-01 -3.75e-01 -1.99e-01]\n",
      " [ 2.18e-01 -4.92e-01 -8.68e-01]\n",
      " [ 5.80e-01 -1.08e+00 -8.67e-01]\n",
      " [-1.54e+00 -4.92e-01 -2.65e-02]\n",
      " [-1.59e+00 -2.48e+00 -7.49e-01]\n",
      " [-1.97e-01 -4.92e-01 -1.15e-01]\n",
      " [-4.56e-01  2.09e-01 -3.20e-03]\n",
      " [-6.63e-01  1.26e+00  9.76e-01]\n",
      " [ 5.28e-01  1.61e+00  6.43e-01]\n",
      " [-6.11e-01 -1.08e+00 -8.24e-01]\n",
      " [-8.18e-01  6.77e-01  2.65e-01]\n",
      " [-7.66e-01 -1.19e+00 -7.76e-01]\n",
      " [-1.45e-01  2.09e-01 -6.49e-01]\n",
      " [-1.70e+00 -4.92e-01 -6.66e-01]\n",
      " [ 6.23e-02 -9.60e-01 -6.40e-01]\n",
      " [-1.97e-01  3.26e-01 -7.90e-01]\n",
      " [-1.03e+00 -6.09e-01 -9.00e-01]\n",
      " [ 9.42e-01  4.43e-01 -4.16e-01]\n",
      " [-8.70e-01 -1.08e+00 -2.71e-01]\n",
      " [-1.45e-01  3.26e-01 -7.84e-01]\n",
      " [ 8.39e-01 -6.09e-01 -6.50e-01]\n",
      " [-2.48e-01 -6.09e-01 -8.09e-01]\n",
      " [-4.04e-01 -8.43e-01  3.63e-01]\n",
      " [-1.97e-01 -3.75e-01 -6.88e-01]\n",
      " [ 5.28e-01 -2.58e-01 -9.02e-01]\n",
      " [ 2.03e+00  1.38e+00  2.64e+00]\n",
      " [ 1.66e-01 -1.41e-01  9.49e-02]\n",
      " [ 2.18e-01  1.73e+00  5.72e-01]\n",
      " [-1.18e+00  1.14e+00  1.14e+00]\n",
      " [-1.45e-01 -4.92e-01 -8.72e-02]\n",
      " [-9.73e-01 -3.75e-01 -6.95e-01]\n",
      " [-1.59e+00  2.09e-01 -1.09e-01]\n",
      " [-1.34e+00 -1.78e+00 -6.76e-01]\n",
      " [ 1.46e+00  1.61e+00  1.01e+00]\n",
      " [ 7.35e-01  6.77e-01 -4.71e-01]\n",
      " [-6.11e-01  9.23e-02 -6.19e-01]\n",
      " [-2.48e-01 -2.58e-01 -7.47e-01]\n",
      " [-1.45e-01 -3.75e-01 -6.92e-01]\n",
      " [ 6.32e-01 -4.92e-01 -8.18e-01]\n",
      " [ 1.36e+00 -4.92e-01  9.01e-01]\n",
      " [-6.63e-01 -1.31e+00 -5.90e-01]\n",
      " [ 2.08e+00  1.96e+00  1.31e-01]\n",
      " [-8.70e-01 -1.54e+00 -8.74e-01]\n",
      " [ 2.81e+00  9.10e-01  5.80e-02]\n",
      " [-1.13e+00 -1.41e-01 -4.87e-01]\n",
      " [ 8.91e-01  9.10e-01  3.25e-01]]\n"
     ]
    }
   ],
   "source": [
    "from sklearn.preprocessing import StandardScaler\n",
    "sc = StandardScaler()\n",
    "X_train = sc.fit_transform(X_train)\n",
    "X_test = sc.transform(X_test)\n",
    "print(X_train)\n",
    "print(X_test)"
   ]
  },
  {
   "cell_type": "code",
   "execution_count": 111,
   "id": "8e32442e",
   "metadata": {},
   "outputs": [
    {
     "data": {
      "text/plain": [
       "LinearRegression()"
      ]
     },
     "execution_count": 111,
     "metadata": {},
     "output_type": "execute_result"
    }
   ],
   "source": [
    "# Training the Polynomial Regression model on the Training set\n",
    "from sklearn.preprocessing import PolynomialFeatures\n",
    "from sklearn.linear_model import LinearRegression\n",
    "poly_reg = PolynomialFeatures(degree = 4)\n",
    "X_poly = poly_reg.fit_transform(X_train)\n",
    "regressor = LinearRegression()\n",
    "regressor.fit(X_poly, y_train)"
   ]
  },
  {
   "cell_type": "code",
   "execution_count": 112,
   "id": "9130c0f2",
   "metadata": {},
   "outputs": [
    {
     "name": "stdout",
     "output_type": "stream",
     "text": [
      "[[ 4.82e+07  1.50e+07]\n",
      " [ 4.12e+07  2.00e+07]\n",
      " [ 7.93e+06  6.40e+07]\n",
      " [ 3.43e+07  4.00e+07]\n",
      " [ 9.21e+07  3.20e+07]\n",
      " [ 2.27e+07  1.50e+07]\n",
      " [ 1.45e+08  2.00e+08]\n",
      " [ 8.81e+07  9.00e+07]\n",
      " [ 5.77e+07  6.00e+07]\n",
      " [ 4.45e+07  3.00e+07]\n",
      " [ 1.94e+07  7.00e+07]\n",
      " [ 6.45e+07  4.00e+07]\n",
      " [ 4.61e+07  2.50e+07]\n",
      " [ 7.47e+07  9.00e+07]\n",
      " [ 4.80e+07  4.00e+07]\n",
      " [ 7.42e+07  1.75e+08]\n",
      " [ 2.71e+07  0.00e+00]\n",
      " [ 6.20e+07  1.35e+08]\n",
      " [ 1.85e+08  2.20e+08]\n",
      " [ 2.90e+08  1.60e+08]\n",
      " [ 1.78e+08  2.00e+08]\n",
      " [ 6.08e+07  5.40e+07]\n",
      " [ 5.40e+07  7.50e+07]\n",
      " [ 5.57e+07  7.50e+07]\n",
      " [ 4.07e+07  2.00e+07]\n",
      " [ 4.38e+07  2.50e+07]\n",
      " [ 1.33e+08  1.85e+08]\n",
      " [ 7.65e+07  1.50e+08]\n",
      " [ 4.12e+07  3.00e+07]\n",
      " [ 1.99e+08  3.00e+08]\n",
      " [ 4.78e+07  2.30e+07]\n",
      " [ 3.88e+07  3.00e+07]\n",
      " [ 5.15e+06  3.70e+07]\n",
      " [ 4.75e+07  2.50e+07]\n",
      " [ 8.18e+07  6.00e+07]\n",
      " [ 4.67e+07  2.90e+07]\n",
      " [ 2.54e+07  1.70e+07]\n",
      " [ 8.74e+07  6.50e+07]\n",
      " [ 3.35e+07  1.90e+07]\n",
      " [ 5.04e+07  6.00e+07]\n",
      " [ 7.84e+07  1.00e+08]\n",
      " [ 3.27e+07  1.50e+07]\n",
      " [ 8.24e+07  3.50e+07]\n",
      " [ 4.21e+07  3.00e+07]\n",
      " [ 6.45e+07  7.50e+07]\n",
      " [-7.28e+06  2.50e+07]\n",
      " [ 4.50e+07  1.25e+07]\n",
      " [ 1.52e+08  1.25e+08]\n",
      " [ 6.76e+07  7.50e+07]\n",
      " [ 3.50e+07  4.00e+07]\n",
      " [ 9.38e+07  7.00e+07]\n",
      " [ 1.34e+08  4.50e+07]\n",
      " [ 5.10e+07  8.50e+07]\n",
      " [ 3.36e+07  5.80e+07]\n",
      " [ 3.14e+07  2.00e+07]\n",
      " [ 5.92e+07  4.70e+07]\n",
      " [ 1.11e+08  8.00e+07]\n",
      " [ 8.78e+07  8.50e+07]\n",
      " [ 4.55e+07  1.50e+07]\n",
      " [ 7.76e+07  7.50e+07]\n",
      " [ 4.47e+07  4.00e+07]\n",
      " [ 4.20e+07  3.50e+07]\n",
      " [ 7.07e+07  1.30e+08]\n",
      " [ 1.08e+08  1.00e+08]\n",
      " [ 3.40e+07  6.00e+07]\n",
      " [ 6.58e+07  1.00e+08]\n",
      " [ 2.78e+07  0.00e+00]\n",
      " [ 5.74e+07  4.50e+07]\n",
      " [ 9.04e+07  8.50e+07]\n",
      " [ 3.90e+07  4.00e+07]\n",
      " [ 4.53e+07  2.80e+07]\n",
      " [ 9.64e+07  7.50e+07]\n",
      " [ 2.53e+07  2.90e+07]\n",
      " [ 4.62e+07  8.70e+07]\n",
      " [ 3.62e+07  0.00e+00]\n",
      " [ 4.59e+07  6.00e+07]\n",
      " [ 6.55e+07  6.10e+07]\n",
      " [ 3.44e+07  2.80e+07]\n",
      " [ 5.72e+07  8.03e+07]\n",
      " [ 3.51e+07  3.50e+07]\n",
      " [ 3.29e+07  8.50e+07]\n",
      " [ 4.49e+07  5.50e+07]\n",
      " [ 3.73e+07  6.00e+07]\n",
      " [ 3.09e+07  1.50e+07]\n",
      " [ 4.37e+07  2.00e+07]\n",
      " [ 5.23e+07  3.00e+07]\n",
      " [ 7.71e+07  1.00e+08]\n",
      " [ 5.63e+07  5.00e+07]\n",
      " [ 4.89e+07  5.00e+07]\n",
      " [ 2.66e+07  2.00e+07]\n",
      " [ 3.20e+07  5.50e+07]\n",
      " [ 3.86e+07  5.00e+07]\n",
      " [ 6.74e+07  1.60e+07]\n",
      " [ 5.89e+07  8.00e+07]\n",
      " [ 3.98e+07  3.50e+07]\n",
      " [ 5.52e+07  5.00e+07]\n",
      " [ 6.80e+07  4.00e+07]\n",
      " [ 4.82e+07  1.50e+08]\n",
      " [ 8.41e+07  6.50e+07]\n",
      " [ 3.42e+07  3.50e+07]\n",
      " [ 4.67e+07  2.50e+07]\n",
      " [ 3.58e+07  2.00e+07]\n",
      " [ 1.58e+08  1.70e+08]\n",
      " [ 3.95e+07  2.00e+07]\n",
      " [ 6.12e+07  7.30e+07]\n",
      " [ 8.07e+07  3.50e+07]\n",
      " [ 5.55e+07  3.30e+07]\n",
      " [ 2.63e+07  2.50e+07]\n",
      " [ 7.70e+07  1.70e+07]\n",
      " [ 4.68e+07  9.90e+07]\n",
      " [ 9.15e+07  1.50e+08]\n",
      " [ 3.70e+07  4.00e+07]\n",
      " [ 1.46e+08  5.00e+07]\n",
      " [ 4.66e+07  5.00e+07]\n",
      " [ 5.81e+07  7.50e+07]\n",
      " [ 4.23e+07  6.00e+07]\n",
      " [ 4.54e+07  4.00e+07]\n",
      " [ 4.04e+07  6.30e+07]\n",
      " [ 4.14e+07  5.00e+07]\n",
      " [ 3.80e+07  2.50e+07]\n",
      " [ 4.24e+07  6.00e+07]\n",
      " [ 1.95e+07  2.00e+07]\n",
      " [ 5.28e+07  1.00e+08]\n",
      " [ 3.01e+07  1.60e+07]\n",
      " [ 7.37e+07  1.75e+08]\n",
      " [ 3.65e+07  0.00e+00]\n",
      " [ 6.04e+07  6.50e+07]\n",
      " [ 4.76e+07  8.00e+07]\n",
      " [ 4.17e+07  1.80e+07]\n",
      " [ 9.28e+07  3.80e+07]\n",
      " [ 4.06e+07  5.00e+07]\n",
      " [ 8.51e+07  3.50e+07]\n",
      " [ 4.35e+07  2.00e+07]\n",
      " [ 6.40e+06  3.00e+07]\n",
      " [ 5.24e+07  2.75e+07]\n",
      " [ 4.75e+07  3.70e+07]\n",
      " [ 6.02e+07  7.50e+07]\n",
      " [ 1.48e+08  2.50e+08]\n",
      " [ 4.44e+07  4.50e+07]\n",
      " [ 5.06e+07  1.90e+07]\n",
      " [ 1.00e+08  1.50e+08]\n",
      " [ 5.22e+07  3.00e+07]\n",
      " [ 6.89e+07  4.50e+07]\n",
      " [ 7.01e+07  7.50e+07]\n",
      " [ 6.64e+07  8.00e+07]\n",
      " [ 4.16e+07  6.00e+07]\n",
      " [ 7.00e+07  8.00e+07]\n",
      " [ 6.09e+07  7.00e+07]\n",
      " [ 1.45e+08  1.85e+08]\n",
      " [ 9.65e+07  2.00e+08]\n",
      " [ 1.03e+08  8.00e+07]\n",
      " [ 1.42e+08  2.10e+08]\n",
      " [ 6.94e+07  6.00e+07]\n",
      " [ 3.04e+07  2.75e+07]\n",
      " [ 7.10e+07  1.50e+07]\n",
      " [ 3.01e+07  1.50e+07]\n",
      " [ 5.15e+07  0.00e+00]\n",
      " [ 8.90e+07  6.50e+07]\n",
      " [ 4.02e+07  2.00e+07]\n",
      " [ 8.00e+07  5.00e+07]\n",
      " [ 7.01e+07  4.00e+07]\n",
      " [ 9.01e+07  1.50e+07]\n",
      " [ 3.51e+07  2.90e+07]\n",
      " [ 3.35e+07  0.00e+00]\n",
      " [ 7.75e+07  1.70e+07]\n",
      " [ 3.83e+07  6.40e+07]\n",
      " [ 2.99e+07  7.00e+07]\n",
      " [ 5.94e+07  1.50e+07]\n",
      " [ 5.44e+07  6.90e+07]\n",
      " [ 2.15e+07  6.00e+07]\n",
      " [ 2.82e+07  1.75e+07]\n",
      " [ 4.91e+07  2.50e+07]\n",
      " [ 7.62e+07  1.30e+08]\n",
      " [ 2.18e+07  0.00e+00]\n",
      " [ 6.24e+07  5.00e+07]\n",
      " [ 3.06e+07  2.80e+07]\n",
      " [ 1.14e+08  8.80e+07]\n",
      " [ 3.62e+07  3.50e+07]\n",
      " [ 2.97e+07  2.00e+07]\n",
      " [ 1.63e+08  1.25e+08]\n",
      " [ 8.84e+07  2.60e+07]\n",
      " [ 2.85e+07  1.50e+07]\n",
      " [ 1.08e+08  6.00e+07]\n",
      " [ 8.25e+07  8.20e+07]\n",
      " [ 4.11e+07  1.50e+07]\n",
      " [ 8.04e+07  1.80e+07]\n",
      " [ 4.96e+07  3.00e+07]\n",
      " [ 5.37e+07  5.20e+07]\n",
      " [ 3.71e+07  3.00e+07]\n",
      " [ 3.62e+07  1.00e+08]\n",
      " [ 3.03e+07  2.20e+07]\n",
      " [ 3.62e+07  2.20e+07]\n",
      " [ 4.22e+07  5.80e+07]\n",
      " [ 1.87e+08  2.58e+08]\n",
      " [ 5.54e+07  2.60e+07]\n",
      " [ 3.39e+07  3.15e+07]\n",
      " [ 3.14e+07  3.00e+07]\n",
      " [ 8.96e+07  1.00e+08]\n",
      " [ 5.58e+07  3.50e+07]\n",
      " [ 6.72e+07  1.25e+08]]\n"
     ]
    }
   ],
   "source": [
    "# Predicting the Test set results\n",
    "y_pred = regressor.predict(poly_reg.transform(X_test))\n",
    "np.set_printoptions(precision=2)\n",
    "print(np.concatenate((y_pred.reshape(len(y_pred),1), y_test.reshape(len(y_test),1)),1))"
   ]
  },
  {
   "cell_type": "code",
   "execution_count": 113,
   "id": "50480a08",
   "metadata": {},
   "outputs": [
    {
     "data": {
      "text/plain": [
       "0.511889158604193"
      ]
     },
     "execution_count": 113,
     "metadata": {},
     "output_type": "execute_result"
    }
   ],
   "source": [
    "# Evaluating the Model Performance\n",
    "from sklearn.metrics import r2_score\n",
    "r2_score(y_test, y_pred)"
   ]
  },
  {
   "cell_type": "markdown",
   "id": "512629b5",
   "metadata": {},
   "source": [
    "#### Section 3 - Classification Exploration"
   ]
  },
  {
   "cell_type": "code",
   "execution_count": 115,
   "id": "3a3926cd",
   "metadata": {},
   "outputs": [],
   "source": [
    "# Import the dataset\n",
    "dataset = pd.read_csv('./bank_churn.csv')"
   ]
  },
  {
   "cell_type": "code",
   "execution_count": 116,
   "id": "0f69e589",
   "metadata": {},
   "outputs": [
    {
     "name": "stdout",
     "output_type": "stream",
     "text": [
      "      RowNumber  CustomerId    Surname  CreditScore Geography  Gender  Age  \\\n",
      "0             1    15634602   Hargrave          619    France  Female   42   \n",
      "1             2    15647311       Hill          608     Spain  Female   41   \n",
      "2             3    15619304       Onio          502    France  Female   42   \n",
      "3             4    15701354       Boni          699    France  Female   39   \n",
      "4             5    15737888   Mitchell          850     Spain  Female   43   \n",
      "...         ...         ...        ...          ...       ...     ...  ...   \n",
      "9995       9996    15606229   Obijiaku          771    France    Male   39   \n",
      "9996       9997    15569892  Johnstone          516    France    Male   35   \n",
      "9997       9998    15584532        Liu          709    France  Female   36   \n",
      "9998       9999    15682355  Sabbatini          772   Germany    Male   42   \n",
      "9999      10000    15628319     Walker          792    France  Female   28   \n",
      "\n",
      "      Tenure    Balance  NumOfProducts  HasCrCard  IsActiveMember  \\\n",
      "0          2       0.00              1          1               1   \n",
      "1          1   83807.86              1          0               1   \n",
      "2          8  159660.80              3          1               0   \n",
      "3          1       0.00              2          0               0   \n",
      "4          2  125510.82              1          1               1   \n",
      "...      ...        ...            ...        ...             ...   \n",
      "9995       5       0.00              2          1               0   \n",
      "9996      10   57369.61              1          1               1   \n",
      "9997       7       0.00              1          0               1   \n",
      "9998       3   75075.31              2          1               0   \n",
      "9999       4  130142.79              1          1               0   \n",
      "\n",
      "      EstimatedSalary  Exited  \n",
      "0           101348.88       1  \n",
      "1           112542.58       0  \n",
      "2           113931.57       1  \n",
      "3            93826.63       0  \n",
      "4            79084.10       0  \n",
      "...               ...     ...  \n",
      "9995         96270.64       0  \n",
      "9996        101699.77       0  \n",
      "9997         42085.58       1  \n",
      "9998         92888.52       1  \n",
      "9999         38190.78       0  \n",
      "\n",
      "[10000 rows x 14 columns]\n"
     ]
    }
   ],
   "source": [
    "print(dataset)"
   ]
  },
  {
   "cell_type": "code",
   "execution_count": 117,
   "id": "e23dbf97",
   "metadata": {},
   "outputs": [
    {
     "data": {
      "text/html": [
       "<div>\n",
       "<style scoped>\n",
       "    .dataframe tbody tr th:only-of-type {\n",
       "        vertical-align: middle;\n",
       "    }\n",
       "\n",
       "    .dataframe tbody tr th {\n",
       "        vertical-align: top;\n",
       "    }\n",
       "\n",
       "    .dataframe thead th {\n",
       "        text-align: right;\n",
       "    }\n",
       "</style>\n",
       "<table border=\"1\" class=\"dataframe\">\n",
       "  <thead>\n",
       "    <tr style=\"text-align: right;\">\n",
       "      <th></th>\n",
       "      <th>RowNumber</th>\n",
       "      <th>CustomerId</th>\n",
       "      <th>Surname</th>\n",
       "      <th>CreditScore</th>\n",
       "      <th>Geography</th>\n",
       "      <th>Gender</th>\n",
       "      <th>Age</th>\n",
       "      <th>Tenure</th>\n",
       "      <th>Balance</th>\n",
       "      <th>NumOfProducts</th>\n",
       "      <th>HasCrCard</th>\n",
       "      <th>IsActiveMember</th>\n",
       "      <th>EstimatedSalary</th>\n",
       "      <th>Exited</th>\n",
       "    </tr>\n",
       "  </thead>\n",
       "  <tbody>\n",
       "    <tr>\n",
       "      <th>0</th>\n",
       "      <td>1</td>\n",
       "      <td>15634602</td>\n",
       "      <td>Hargrave</td>\n",
       "      <td>619</td>\n",
       "      <td>France</td>\n",
       "      <td>Female</td>\n",
       "      <td>42</td>\n",
       "      <td>2</td>\n",
       "      <td>0.00</td>\n",
       "      <td>1</td>\n",
       "      <td>1</td>\n",
       "      <td>1</td>\n",
       "      <td>101348.88</td>\n",
       "      <td>1</td>\n",
       "    </tr>\n",
       "    <tr>\n",
       "      <th>1</th>\n",
       "      <td>2</td>\n",
       "      <td>15647311</td>\n",
       "      <td>Hill</td>\n",
       "      <td>608</td>\n",
       "      <td>Spain</td>\n",
       "      <td>Female</td>\n",
       "      <td>41</td>\n",
       "      <td>1</td>\n",
       "      <td>83807.86</td>\n",
       "      <td>1</td>\n",
       "      <td>0</td>\n",
       "      <td>1</td>\n",
       "      <td>112542.58</td>\n",
       "      <td>0</td>\n",
       "    </tr>\n",
       "    <tr>\n",
       "      <th>2</th>\n",
       "      <td>3</td>\n",
       "      <td>15619304</td>\n",
       "      <td>Onio</td>\n",
       "      <td>502</td>\n",
       "      <td>France</td>\n",
       "      <td>Female</td>\n",
       "      <td>42</td>\n",
       "      <td>8</td>\n",
       "      <td>159660.80</td>\n",
       "      <td>3</td>\n",
       "      <td>1</td>\n",
       "      <td>0</td>\n",
       "      <td>113931.57</td>\n",
       "      <td>1</td>\n",
       "    </tr>\n",
       "    <tr>\n",
       "      <th>3</th>\n",
       "      <td>4</td>\n",
       "      <td>15701354</td>\n",
       "      <td>Boni</td>\n",
       "      <td>699</td>\n",
       "      <td>France</td>\n",
       "      <td>Female</td>\n",
       "      <td>39</td>\n",
       "      <td>1</td>\n",
       "      <td>0.00</td>\n",
       "      <td>2</td>\n",
       "      <td>0</td>\n",
       "      <td>0</td>\n",
       "      <td>93826.63</td>\n",
       "      <td>0</td>\n",
       "    </tr>\n",
       "    <tr>\n",
       "      <th>4</th>\n",
       "      <td>5</td>\n",
       "      <td>15737888</td>\n",
       "      <td>Mitchell</td>\n",
       "      <td>850</td>\n",
       "      <td>Spain</td>\n",
       "      <td>Female</td>\n",
       "      <td>43</td>\n",
       "      <td>2</td>\n",
       "      <td>125510.82</td>\n",
       "      <td>1</td>\n",
       "      <td>1</td>\n",
       "      <td>1</td>\n",
       "      <td>79084.10</td>\n",
       "      <td>0</td>\n",
       "    </tr>\n",
       "  </tbody>\n",
       "</table>\n",
       "</div>"
      ],
      "text/plain": [
       "   RowNumber  CustomerId   Surname  CreditScore Geography  Gender  Age  \\\n",
       "0          1    15634602  Hargrave          619    France  Female   42   \n",
       "1          2    15647311      Hill          608     Spain  Female   41   \n",
       "2          3    15619304      Onio          502    France  Female   42   \n",
       "3          4    15701354      Boni          699    France  Female   39   \n",
       "4          5    15737888  Mitchell          850     Spain  Female   43   \n",
       "\n",
       "   Tenure    Balance  NumOfProducts  HasCrCard  IsActiveMember  \\\n",
       "0       2       0.00              1          1               1   \n",
       "1       1   83807.86              1          0               1   \n",
       "2       8  159660.80              3          1               0   \n",
       "3       1       0.00              2          0               0   \n",
       "4       2  125510.82              1          1               1   \n",
       "\n",
       "   EstimatedSalary  Exited  \n",
       "0        101348.88       1  \n",
       "1        112542.58       0  \n",
       "2        113931.57       1  \n",
       "3         93826.63       0  \n",
       "4         79084.10       0  "
      ]
     },
     "execution_count": 117,
     "metadata": {},
     "output_type": "execute_result"
    }
   ],
   "source": [
    "dataset.head()"
   ]
  },
  {
   "cell_type": "markdown",
   "id": "1554e01f",
   "metadata": {},
   "source": [
    "#### Support Vector Machine - Using the bank churn dataset"
   ]
  },
  {
   "cell_type": "code",
   "execution_count": 23,
   "id": "e8e306f6",
   "metadata": {},
   "outputs": [
    {
     "name": "stdout",
     "output_type": "stream",
     "text": [
      "      Tenure    Balance  NumOfProducts  HasCrCard  IsActiveMember  \\\n",
      "0          2       0.00              1          1               1   \n",
      "1          1   83807.86              1          0               1   \n",
      "2          8  159660.80              3          1               0   \n",
      "3          1       0.00              2          0               0   \n",
      "4          2  125510.82              1          1               1   \n",
      "...      ...        ...            ...        ...             ...   \n",
      "9995       5       0.00              2          1               0   \n",
      "9996      10   57369.61              1          1               1   \n",
      "9997       7       0.00              1          0               1   \n",
      "9998       3   75075.31              2          1               0   \n",
      "9999       4  130142.79              1          1               0   \n",
      "\n",
      "      EstimatedSalary  \n",
      "0           101348.88  \n",
      "1           112542.58  \n",
      "2           113931.57  \n",
      "3            93826.63  \n",
      "4            79084.10  \n",
      "...               ...  \n",
      "9995         96270.64  \n",
      "9996        101699.77  \n",
      "9997         42085.58  \n",
      "9998         92888.52  \n",
      "9999         38190.78  \n",
      "\n",
      "[10000 rows x 6 columns]\n",
      "[1 0 1 ... 1 1 0]\n"
     ]
    }
   ],
   "source": [
    "# Select columns for X (y will be the last column as it indicates the crucial exiting factor)\n",
    "#If you want to select specific rows and columns\n",
    "X = dataset.iloc[:, [7, 8, 9, 10, 11, 12 ]]\n",
    "y = dataset.iloc[:, 13].values\n",
    "print(X)\n",
    "print(y)"
   ]
  },
  {
   "cell_type": "code",
   "execution_count": 24,
   "id": "d7127041",
   "metadata": {},
   "outputs": [
    {
     "name": "stdout",
     "output_type": "stream",
     "text": [
      "      Tenure    Balance  NumOfProducts  HasCrCard  IsActiveMember  \\\n",
      "2967       5  117833.30              3          0               0   \n",
      "700        5       0.00              2          1               0   \n",
      "3481       9   53299.96              2          1               1   \n",
      "1621       5   75075.14              1          1               1   \n",
      "800        7       0.00              2          1               1   \n",
      "...      ...        ...            ...        ...             ...   \n",
      "9225       4  120074.97              2          1               1   \n",
      "4859       4  114440.24              1          1               1   \n",
      "3264       5  161274.05              2          1               0   \n",
      "9845       9       0.00              2          1               1   \n",
      "2732       1  108076.33              1          1               0   \n",
      "\n",
      "      EstimatedSalary  \n",
      "2967          5831.00  \n",
      "700          95611.47  \n",
      "3481         42855.97  \n",
      "1621          8651.92  \n",
      "800         173952.50  \n",
      "...               ...  \n",
      "9225        162961.79  \n",
      "4859        107753.07  \n",
      "3264        181429.87  \n",
      "9845        148750.16  \n",
      "2732        118855.26  \n",
      "\n",
      "[7500 rows x 6 columns]\n",
      "[1 0 0 ... 0 0 1]\n",
      "      Tenure    Balance  NumOfProducts  HasCrCard  IsActiveMember  \\\n",
      "9394       8  131101.04              1          1               1   \n",
      "898        2  102967.41              1          1               0   \n",
      "2398       8   95386.82              1          1               1   \n",
      "5906       4  112079.58              1          0               0   \n",
      "2343       5  163034.82              2          1               1   \n",
      "...      ...        ...            ...        ...             ...   \n",
      "8764       8  116197.65              2          1               1   \n",
      "4359       2  127536.44              1          1               0   \n",
      "2041       1   94968.97              1          1               0   \n",
      "1108       7  110555.37              2          1               0   \n",
      "3332       3  119558.35              1          0               0   \n",
      "\n",
      "      EstimatedSalary  \n",
      "9394        192852.67  \n",
      "898         128702.10  \n",
      "2398         75732.25  \n",
      "5906         89368.59  \n",
      "2343        135662.17  \n",
      "...               ...  \n",
      "8764         86701.40  \n",
      "4359        108398.63  \n",
      "2041         84487.62  \n",
      "1108         46522.68  \n",
      "3332         72927.68  \n",
      "\n",
      "[2500 rows x 6 columns]\n",
      "[0 1 0 ... 0 0 0]\n"
     ]
    }
   ],
   "source": [
    "# Splitting the dataset into the Training set and Test set\n",
    "from sklearn.model_selection import train_test_split\n",
    "X_train, X_test, y_train, y_test = train_test_split(X, y, test_size = 0.25, random_state = 0)\n",
    "print(X_train)\n",
    "print(y_train)\n",
    "print(X_test)\n",
    "print(y_test)"
   ]
  },
  {
   "cell_type": "code",
   "execution_count": 25,
   "id": "377e6ff2",
   "metadata": {},
   "outputs": [
    {
     "name": "stdout",
     "output_type": "stream",
     "text": [
      "[[ 0.00886037  0.67316003  2.53503394 -1.55362351 -1.03446007 -1.64080994]\n",
      " [ 0.00886037 -1.20772417  0.80424154  0.64365658 -1.03446007 -0.07927152]\n",
      " [ 1.39329338 -0.35693706  0.80424154  0.64365658  0.96668786 -0.99684012]\n",
      " ...\n",
      " [ 0.00886037  1.36657199  0.80424154  0.64365658 -1.03446007  1.4133552 ]\n",
      " [ 1.39329338 -1.20772417  0.80424154  0.64365658  0.96668786  0.84496184]\n",
      " [-1.37557264  0.51741687 -0.92655087  0.64365658 -1.03446007  0.32500428]]\n",
      "[[ 1.04718513  0.88494297 -0.92655087  0.64365658  0.96668786  1.61203027]\n",
      " [-1.02946438  0.43586703 -0.92655087  0.64365658 -1.03446007  0.49626891]\n",
      " [ 1.04718513  0.31486378 -0.92655087  0.64365658  0.96668786 -0.42502785]\n",
      " ...\n",
      " [-1.37557264  0.30819395 -0.92655087  0.64365658 -1.03446007 -0.272747  ]\n",
      " [ 0.70107688  0.55698791  0.80424154  0.64365658 -1.03446007 -0.93306558]\n",
      " [-0.68335613  0.7006957  -0.92655087 -1.55362351 -1.03446007 -0.47380732]]\n"
     ]
    }
   ],
   "source": [
    "# Feature Scaling\n",
    "from sklearn.preprocessing import StandardScaler\n",
    "sc = StandardScaler()\n",
    "X_train = sc.fit_transform(X_train)\n",
    "X_test = sc.transform(X_test)\n",
    "print(X_train)\n",
    "print(X_test)"
   ]
  },
  {
   "cell_type": "code",
   "execution_count": 26,
   "id": "0d6a680c",
   "metadata": {},
   "outputs": [
    {
     "data": {
      "text/plain": [
       "SVC(kernel='linear', random_state=0)"
      ]
     },
     "execution_count": 26,
     "metadata": {},
     "output_type": "execute_result"
    }
   ],
   "source": [
    "# Training the SVM model on the Training set\n",
    "from sklearn.svm import SVC\n",
    "classifier = SVC(kernel = 'linear', random_state = 0)\n",
    "classifier.fit(X_train, y_train)"
   ]
  },
  {
   "cell_type": "code",
   "execution_count": 79,
   "id": "da8995af",
   "metadata": {},
   "outputs": [
    {
     "name": "stdout",
     "output_type": "stream",
     "text": [
      "[1]\n"
     ]
    }
   ],
   "source": [
    "# Predicting a new result using the 6 factors that we are using as columns\n",
    "# This show that the person is likely to leave the bank if they are 10 years\n",
    "# with the bank with a balance of 75 thousand, use 1 product, does not have a card\n",
    "# and a salary of 90k\n",
    "print(classifier.predict(sc.transform([[10,75000, 3, 1, 1, 90000]])))"
   ]
  },
  {
   "cell_type": "code",
   "execution_count": 28,
   "id": "f1459d34",
   "metadata": {},
   "outputs": [
    {
     "name": "stdout",
     "output_type": "stream",
     "text": [
      "[[0 0]\n",
      " [0 1]\n",
      " [0 0]\n",
      " ...\n",
      " [0 0]\n",
      " [0 0]\n",
      " [0 0]]\n"
     ]
    }
   ],
   "source": [
    "# Predicting the Test set results\n",
    "y_pred = classifier.predict(X_test)\n",
    "print(np.concatenate((y_pred.reshape(len(y_pred),1), y_test.reshape(len(y_test),1)),1))"
   ]
  },
  {
   "cell_type": "code",
   "execution_count": 29,
   "id": "38676e76",
   "metadata": {},
   "outputs": [
    {
     "name": "stdout",
     "output_type": "stream",
     "text": [
      "[[1991    0]\n",
      " [ 509    0]]\n"
     ]
    },
    {
     "data": {
      "text/plain": [
       "0.7964"
      ]
     },
     "execution_count": 29,
     "metadata": {},
     "output_type": "execute_result"
    }
   ],
   "source": [
    "# Making the Confusion Matrix\n",
    "from sklearn.metrics import confusion_matrix, accuracy_score\n",
    "cm = confusion_matrix(y_test, y_pred)\n",
    "print(cm)\n",
    "accuracy_score(y_test, y_pred)"
   ]
  },
  {
   "cell_type": "markdown",
   "id": "41cbb38d",
   "metadata": {},
   "source": [
    "#### Decision Tree Classification - Using the Bank Customer Churn Dataset"
   ]
  },
  {
   "cell_type": "code",
   "execution_count": 71,
   "id": "67df6545",
   "metadata": {},
   "outputs": [
    {
     "name": "stdout",
     "output_type": "stream",
     "text": [
      "      Tenure    Balance  NumOfProducts  HasCrCard  IsActiveMember  \\\n",
      "0          2       0.00              1          1               1   \n",
      "1          1   83807.86              1          0               1   \n",
      "2          8  159660.80              3          1               0   \n",
      "3          1       0.00              2          0               0   \n",
      "4          2  125510.82              1          1               1   \n",
      "...      ...        ...            ...        ...             ...   \n",
      "9995       5       0.00              2          1               0   \n",
      "9996      10   57369.61              1          1               1   \n",
      "9997       7       0.00              1          0               1   \n",
      "9998       3   75075.31              2          1               0   \n",
      "9999       4  130142.79              1          1               0   \n",
      "\n",
      "      EstimatedSalary  \n",
      "0           101348.88  \n",
      "1           112542.58  \n",
      "2           113931.57  \n",
      "3            93826.63  \n",
      "4            79084.10  \n",
      "...               ...  \n",
      "9995         96270.64  \n",
      "9996        101699.77  \n",
      "9997         42085.58  \n",
      "9998         92888.52  \n",
      "9999         38190.78  \n",
      "\n",
      "[10000 rows x 6 columns]\n",
      "[1 0 1 ... 1 1 0]\n"
     ]
    }
   ],
   "source": [
    "# Select columns for X (y will be the last column as it indicates the crucial exiting factor)\n",
    "#If you want to select specific rows and columns\n",
    "X = dataset.iloc[:, [7, 8, 9, 10, 11, 12 ]]\n",
    "y = dataset.iloc[:, 13].values\n",
    "print(X)\n",
    "print(y)"
   ]
  },
  {
   "cell_type": "code",
   "execution_count": 72,
   "id": "4b1ad376",
   "metadata": {},
   "outputs": [
    {
     "name": "stdout",
     "output_type": "stream",
     "text": [
      "      Tenure    Balance  NumOfProducts  HasCrCard  IsActiveMember  \\\n",
      "2967       5  117833.30              3          0               0   \n",
      "700        5       0.00              2          1               0   \n",
      "3481       9   53299.96              2          1               1   \n",
      "1621       5   75075.14              1          1               1   \n",
      "800        7       0.00              2          1               1   \n",
      "...      ...        ...            ...        ...             ...   \n",
      "9225       4  120074.97              2          1               1   \n",
      "4859       4  114440.24              1          1               1   \n",
      "3264       5  161274.05              2          1               0   \n",
      "9845       9       0.00              2          1               1   \n",
      "2732       1  108076.33              1          1               0   \n",
      "\n",
      "      EstimatedSalary  \n",
      "2967          5831.00  \n",
      "700          95611.47  \n",
      "3481         42855.97  \n",
      "1621          8651.92  \n",
      "800         173952.50  \n",
      "...               ...  \n",
      "9225        162961.79  \n",
      "4859        107753.07  \n",
      "3264        181429.87  \n",
      "9845        148750.16  \n",
      "2732        118855.26  \n",
      "\n",
      "[7500 rows x 6 columns]\n",
      "[1 0 0 ... 0 0 1]\n",
      "      Tenure    Balance  NumOfProducts  HasCrCard  IsActiveMember  \\\n",
      "9394       8  131101.04              1          1               1   \n",
      "898        2  102967.41              1          1               0   \n",
      "2398       8   95386.82              1          1               1   \n",
      "5906       4  112079.58              1          0               0   \n",
      "2343       5  163034.82              2          1               1   \n",
      "...      ...        ...            ...        ...             ...   \n",
      "8764       8  116197.65              2          1               1   \n",
      "4359       2  127536.44              1          1               0   \n",
      "2041       1   94968.97              1          1               0   \n",
      "1108       7  110555.37              2          1               0   \n",
      "3332       3  119558.35              1          0               0   \n",
      "\n",
      "      EstimatedSalary  \n",
      "9394        192852.67  \n",
      "898         128702.10  \n",
      "2398         75732.25  \n",
      "5906         89368.59  \n",
      "2343        135662.17  \n",
      "...               ...  \n",
      "8764         86701.40  \n",
      "4359        108398.63  \n",
      "2041         84487.62  \n",
      "1108         46522.68  \n",
      "3332         72927.68  \n",
      "\n",
      "[2500 rows x 6 columns]\n",
      "[0 1 0 ... 0 0 0]\n"
     ]
    }
   ],
   "source": [
    "# Splitting the dataset into the Training set and Test set\n",
    "from sklearn.model_selection import train_test_split\n",
    "X_train, X_test, y_train, y_test = train_test_split(X, y, test_size = 0.25, random_state = 0)\n",
    "print(X_train)\n",
    "print(y_train)\n",
    "print(X_test)\n",
    "print(y_test)"
   ]
  },
  {
   "cell_type": "code",
   "execution_count": 73,
   "id": "0349a3db",
   "metadata": {},
   "outputs": [
    {
     "name": "stdout",
     "output_type": "stream",
     "text": [
      "[[ 0.01  0.67  2.54 -1.55 -1.03 -1.64]\n",
      " [ 0.01 -1.21  0.8   0.64 -1.03 -0.08]\n",
      " [ 1.39 -0.36  0.8   0.64  0.97 -1.  ]\n",
      " ...\n",
      " [ 0.01  1.37  0.8   0.64 -1.03  1.41]\n",
      " [ 1.39 -1.21  0.8   0.64  0.97  0.84]\n",
      " [-1.38  0.52 -0.93  0.64 -1.03  0.33]]\n",
      "[[ 1.05  0.88 -0.93  0.64  0.97  1.61]\n",
      " [-1.03  0.44 -0.93  0.64 -1.03  0.5 ]\n",
      " [ 1.05  0.31 -0.93  0.64  0.97 -0.43]\n",
      " ...\n",
      " [-1.38  0.31 -0.93  0.64 -1.03 -0.27]\n",
      " [ 0.7   0.56  0.8   0.64 -1.03 -0.93]\n",
      " [-0.68  0.7  -0.93 -1.55 -1.03 -0.47]]\n"
     ]
    }
   ],
   "source": [
    "# Feature Scaling\n",
    "from sklearn.preprocessing import StandardScaler\n",
    "sc = StandardScaler()\n",
    "X_train = sc.fit_transform(X_train)\n",
    "X_test = sc.transform(X_test)\n",
    "print(X_train)\n",
    "print(X_test)"
   ]
  },
  {
   "cell_type": "code",
   "execution_count": 74,
   "id": "739d54bc",
   "metadata": {},
   "outputs": [
    {
     "data": {
      "text/plain": [
       "DecisionTreeClassifier(criterion='entropy', random_state=0)"
      ]
     },
     "execution_count": 74,
     "metadata": {},
     "output_type": "execute_result"
    }
   ],
   "source": [
    "# Training the Decision Tree Classification model on the Training set\n",
    "from sklearn.tree import DecisionTreeClassifier\n",
    "classifier = DecisionTreeClassifier(criterion = 'entropy', random_state = 0)\n",
    "classifier.fit(X_train, y_train)"
   ]
  },
  {
   "cell_type": "code",
   "execution_count": 85,
   "id": "3245cbcc",
   "metadata": {},
   "outputs": [
    {
     "name": "stdout",
     "output_type": "stream",
     "text": [
      "[1]\n"
     ]
    }
   ],
   "source": [
    "# Predicting a new result using the 6 factors that we are using as columns\n",
    "# This show that the person is likely to leave the bank if they are 5 years\n",
    "# with the bank with a balance of 50 thousand, use 3 products, have a card\n",
    "# and a salary of 60k\n",
    "print(classifier.predict(sc.transform([[5,50000, 3, 1, 1, 60000]])))"
   ]
  },
  {
   "cell_type": "code",
   "execution_count": 75,
   "id": "24c92fc5",
   "metadata": {},
   "outputs": [
    {
     "name": "stdout",
     "output_type": "stream",
     "text": [
      "[[1 0]\n",
      " [1 1]\n",
      " [1 0]\n",
      " ...\n",
      " [1 0]\n",
      " [1 0]\n",
      " [0 0]]\n"
     ]
    }
   ],
   "source": [
    "# Predicting the Test set results\n",
    "y_pred = classifier.predict(X_test)\n",
    "print(np.concatenate((y_pred.reshape(len(y_pred),1), y_test.reshape(len(y_test),1)),1))"
   ]
  },
  {
   "cell_type": "code",
   "execution_count": 76,
   "id": "7231fc42",
   "metadata": {},
   "outputs": [
    {
     "name": "stdout",
     "output_type": "stream",
     "text": [
      "[[1653  338]\n",
      " [ 318  191]]\n"
     ]
    },
    {
     "data": {
      "text/plain": [
       "0.7376"
      ]
     },
     "execution_count": 76,
     "metadata": {},
     "output_type": "execute_result"
    }
   ],
   "source": [
    "# Making the Confusion Matrix\n",
    "from sklearn.metrics import confusion_matrix, accuracy_score\n",
    "cm = confusion_matrix(y_test, y_pred)\n",
    "print(cm)\n",
    "accuracy_score(y_test, y_pred)"
   ]
  },
  {
   "cell_type": "code",
   "execution_count": null,
   "id": "5a836d22",
   "metadata": {},
   "outputs": [],
   "source": []
  }
 ],
 "metadata": {
  "kernelspec": {
   "display_name": "Python 3",
   "language": "python",
   "name": "python3"
  },
  "language_info": {
   "codemirror_mode": {
    "name": "ipython",
    "version": 3
   },
   "file_extension": ".py",
   "mimetype": "text/x-python",
   "name": "python",
   "nbconvert_exporter": "python",
   "pygments_lexer": "ipython3",
   "version": "3.8.8"
  }
 },
 "nbformat": 4,
 "nbformat_minor": 5
}
